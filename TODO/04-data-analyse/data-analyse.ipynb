{
 "cells": [
  {
   "cell_type": "markdown",
   "id": "2e0f5da0-5b06-45ec-8975-14488aea8b66",
   "metadata": {},
   "source": [
    "# Analyse de donnée - Groupe 6\n",
    "Le présent notebook contient la partie analyse de donnée du groupe 6 pour le TPA\n"
   ]
  },
  {
   "cell_type": "markdown",
   "id": "ebec165a-ff4f-44ff-a0e6-fa9124de1923",
   "metadata": {},
   "source": [
    "## Préparation de l'environnement"
   ]
  },
  {
   "cell_type": "code",
   "execution_count": 3,
   "id": "6ed6be13-44fe-435b-b8ce-abab3fbe1e0f",
   "metadata": {},
   "outputs": [],
   "source": [
    "from pyspark import SparkContext, SparkConf\n",
    "from pyspark.conf import SparkConf\n",
    "from pyspark.sql import SparkSession, HiveContext"
   ]
  },
  {
   "cell_type": "code",
   "execution_count": 4,
   "id": "983e2597-d68e-4fbe-9886-1009a8ceab5f",
   "metadata": {},
   "outputs": [
    {
     "name": "stderr",
     "output_type": "stream",
     "text": [
      "Warning: Ignoring non-Spark config property: hive.metastore.uris\n",
      "Setting default log level to \"WARN\".\n",
      "To adjust logging level use sc.setLogLevel(newLevel). For SparkR, use setLogLevel(newLevel).\n"
     ]
    }
   ],
   "source": [
    "\"\"\"\n",
    "SparkSession ss = SparkSession\n",
    ".builder()\n",
    ".appName(\" Hive example\")\n",
    ".config(\"hive.metastore.uris\", \"thrift://localhost:10000\")\n",
    ".enableHiveSupport()\n",
    ".getOrCreate();\n",
    "\"\"\"\n",
    "\n",
    "sparkSession = (SparkSession\n",
    "                .builder\n",
    "                .appName('example-pyspark-read-and-write-from-hive-now')\n",
    "                .config(\"hive.metastore.uris\", \"thrift://localhost:9083\")\n",
    "                .enableHiveSupport()\n",
    "                .getOrCreate()\n",
    "                )\n"
   ]
  },
  {
   "cell_type": "code",
   "execution_count": 486,
   "id": "598678b0-f79b-4961-9e8e-5e0dc56cb3e4",
   "metadata": {},
   "outputs": [
    {
     "name": "stdout",
     "output_type": "stream",
     "text": [
      "+---------+--------------------+-----------+\n",
      "|namespace|           tableName|isTemporary|\n",
      "+---------+--------------------+-----------+\n",
      "|  default|       catalogue_co2|      false|\n",
      "|  default|catalogue_oraclen...|      false|\n",
      "|  default|        client_mongo|      false|\n",
      "|  default| client_mongo_extern|      false|\n",
      "|  default|             co2_ext|      false|\n",
      "|  default|        co2_hdfs_ext|      false|\n",
      "|  default|immatriculation_h...|      false|\n",
      "|  default|immatriculation_o...|      false|\n",
      "|  default|marketing_mongo_e...|      false|\n",
      "|  default| table_catalogue_co2|      false|\n",
      "+---------+--------------------+-----------+\n",
      "\n"
     ]
    }
   ],
   "source": [
    "# Pour tester si on est vraiment connecter à Hive\n",
    "sparkSession.sql(\"SHOW TABLES\").show()"
   ]
  },
  {
   "cell_type": "markdown",
   "id": "f7a38ccc-4ec5-40e5-804a-644df616cffe",
   "metadata": {},
   "source": [
    "# Analyse des données Exploratoire\n",
    "\n",
    "## Importation des données"
   ]
  },
  {
   "cell_type": "code",
   "execution_count": 7,
   "id": "b050645e-a58f-4473-a471-532e964bb121",
   "metadata": {},
   "outputs": [],
   "source": [
    "df_catalogue = sparkSession.sql(\"SELECT * FROM catalogue_co2\")"
   ]
  },
  {
   "cell_type": "code",
   "execution_count": 29,
   "id": "4057c8ac-cc1a-495e-ac8b-77a94b7cf91d",
   "metadata": {},
   "outputs": [],
   "source": [
    "df_client = sparkSession.sql(\"SELECT * FROM client_mongo_extern\")"
   ]
  },
  {
   "cell_type": "code",
   "execution_count": 9,
   "id": "043f6753-dbf7-46c6-98da-69a7f1682a22",
   "metadata": {},
   "outputs": [],
   "source": [
    "df_marketing = sparkSession.sql(\"SELECT * FROM marketing_mongo_extern\")"
   ]
  },
  {
   "cell_type": "code",
   "execution_count": 10,
   "id": "bbd31aa5-bbfc-487e-8c6b-c35c64622588",
   "metadata": {},
   "outputs": [],
   "source": [
    "df_immatriculation = sparkSession.sql(\"SELECT * FROM immatriculation_hdfs_extern\")"
   ]
  },
  {
   "cell_type": "markdown",
   "id": "8177cabb-a101-45e0-bcb2-24043b4c86a8",
   "metadata": {},
   "source": [
    "## Extraction des informations sur les données\n",
    "\n",
    "### Nombre de donnée par source"
   ]
  },
  {
   "cell_type": "code",
   "execution_count": 490,
   "id": "d6776daa-ee78-48bc-9498-c98db4c3c22d",
   "metadata": {},
   "outputs": [
    {
     "name": "stderr",
     "output_type": "stream",
     "text": [
      "                                                                                \r"
     ]
    },
    {
     "data": {
      "text/plain": [
       "200000"
      ]
     },
     "execution_count": 490,
     "metadata": {},
     "output_type": "execute_result"
    }
   ],
   "source": [
    "df_client.count()"
   ]
  },
  {
   "cell_type": "code",
   "execution_count": 489,
   "id": "f6ed9087-e77e-4476-aa34-94ad0ca6ae3c",
   "metadata": {},
   "outputs": [
    {
     "name": "stderr",
     "output_type": "stream",
     "text": [
      "24/06/08 21:45:53 WARN SampleSplitter: Not enough documents for more than one split! Consider setting mongo.input.split_size to a lower value.\n"
     ]
    },
    {
     "data": {
      "text/plain": [
       "20"
      ]
     },
     "execution_count": 489,
     "metadata": {},
     "output_type": "execute_result"
    }
   ],
   "source": [
    "df_marketing.count()"
   ]
  },
  {
   "cell_type": "code",
   "execution_count": 488,
   "id": "36140d92-3cbd-42e0-a9e9-de560b2ec6ed",
   "metadata": {},
   "outputs": [
    {
     "name": "stderr",
     "output_type": "stream",
     "text": [
      "                                                                                \r"
     ]
    },
    {
     "data": {
      "text/plain": [
       "2000001"
      ]
     },
     "execution_count": 488,
     "metadata": {},
     "output_type": "execute_result"
    }
   ],
   "source": [
    "df_immatriculation.count()"
   ]
  },
  {
   "cell_type": "code",
   "execution_count": 487,
   "id": "11fa3bc5-9dd1-47de-a9af-369d7cec8bb5",
   "metadata": {},
   "outputs": [
    {
     "data": {
      "text/plain": [
       "270"
      ]
     },
     "execution_count": 487,
     "metadata": {},
     "output_type": "execute_result"
    }
   ],
   "source": [
    "df_catalogue.count()"
   ]
  },
  {
   "cell_type": "markdown",
   "id": "0c7007b9-3843-45e7-b168-a410f3505025",
   "metadata": {},
   "source": [
    "## Identification des valeurs manquantes"
   ]
  },
  {
   "cell_type": "code",
   "execution_count": 494,
   "id": "1775961c-a7f7-48eb-93ad-1c5e2fe2b6b0",
   "metadata": {},
   "outputs": [],
   "source": [
    "from pyspark.sql.functions import col, count, when, isnan, isnull"
   ]
  },
  {
   "cell_type": "code",
   "execution_count": 491,
   "id": "0dc70549-b886-47c6-9f07-1eb11dddd115",
   "metadata": {},
   "outputs": [],
   "source": [
    "def missing_count(df):\n",
    "    return df.select([(count(when(isnull(c), c))/df.count()).alias(c) for c in df.columns])"
   ]
  },
  {
   "cell_type": "code",
   "execution_count": 495,
   "id": "23c2ff44-6d28-431f-92b2-63aa534972cb",
   "metadata": {},
   "outputs": [
    {
     "name": "stdout",
     "output_type": "stream",
     "text": [
      "+---+----------------+---+---------+--------+--------+--------+-------+--------+----+----------+---------+-----------+\n",
      "| id|marque_corrected|nom|puissance|longueur|nbplaces|nbportes|couleur|occasion|prix|malusbonus|rejetsco2|coutenergie|\n",
      "+---+----------------+---+---------+--------+--------+--------+-------+--------+----+----------+---------+-----------+\n",
      "|0.0|             0.0|0.0|      0.0|     0.0|     0.0|     0.0|    0.0|     0.0| 0.0|       0.0|      0.0|        0.0|\n",
      "+---+----------------+---+---------+--------+--------+--------+-------+--------+----+----------+---------+-----------+\n",
      "\n"
     ]
    }
   ],
   "source": [
    "missing_values_catalogue_co2 = missing_count(df_catalogue)\n",
    "missing_values_catalogue_co2.show()"
   ]
  },
  {
   "cell_type": "code",
   "execution_count": 496,
   "id": "f69ebe9c-8e6b-4289-b2a8-9dedd5f5cb20",
   "metadata": {},
   "outputs": [
    {
     "name": "stderr",
     "output_type": "stream",
     "text": [
      "[Stage 841:==================================>                      (3 + 2) / 5]\r"
     ]
    },
    {
     "name": "stdout",
     "output_type": "stream",
     "text": [
      "+---+---+----+----+------------------+----------------+----------------+---------------+\n",
      "| id|age|sexe|taux|situationfamiliale|nbenfantsacharge|deuxieme_voiture|immatriculation|\n",
      "+---+---+----+----+------------------+----------------+----------------+---------------+\n",
      "|0.0|0.0| 0.0| 0.0|               0.0|             0.0|             0.0|            0.0|\n",
      "+---+---+----+----+------------------+----------------+----------------+---------------+\n",
      "\n"
     ]
    },
    {
     "name": "stderr",
     "output_type": "stream",
     "text": [
      "                                                                                \r"
     ]
    }
   ],
   "source": [
    "missing_values_client_mongo_extern = missing_count(df_client)\n",
    "missing_values_client_mongo_extern.show()"
   ]
  },
  {
   "cell_type": "markdown",
   "id": "b87d7af9-4cc0-438f-b280-dee911d56c5a",
   "metadata": {},
   "source": [
    "## Identification des valeurs doublons"
   ]
  },
  {
   "cell_type": "code",
   "execution_count": 497,
   "id": "8feb3b73-2972-4923-a214-d6295650bf37",
   "metadata": {},
   "outputs": [
    {
     "name": "stdout",
     "output_type": "stream",
     "text": [
      "+---+----------------+---+---------+--------+--------+--------+-------+--------+----+----------+---------+-----------+-----+\n",
      "| id|marque_corrected|nom|puissance|longueur|nbplaces|nbportes|couleur|occasion|prix|malusbonus|rejetsco2|coutenergie|count|\n",
      "+---+----------------+---+---------+--------+--------+--------+-------+--------+----+----------+---------+-----------+-----+\n",
      "+---+----------------+---+---------+--------+--------+--------+-------+--------+----+----------+---------+-----------+-----+\n",
      "\n"
     ]
    }
   ],
   "source": [
    "duplicates_catalogue_co2 = df_catalogue.groupBy(df_catalogue.columns).count().filter(\"count > 1\")\n",
    "duplicates_catalogue_co2.show()"
   ]
  },
  {
   "cell_type": "markdown",
   "id": "3249fa5f-00f2-455e-bb6d-bd9015882014",
   "metadata": {},
   "source": [
    "<p>Il n'y  pas de doublon dans catalogue_co2</p> "
   ]
  },
  {
   "cell_type": "code",
   "execution_count": 498,
   "id": "c562bb14-fdc8-428b-8ab4-ac4ba2d31833",
   "metadata": {},
   "outputs": [
    {
     "name": "stderr",
     "output_type": "stream",
     "text": [
      "                                                                                \r"
     ]
    },
    {
     "name": "stdout",
     "output_type": "stream",
     "text": [
      "+---+---+----+----+------------------+----------------+----------------+---------------+-----+\n",
      "| id|age|sexe|taux|situationfamiliale|nbenfantsacharge|deuxieme_voiture|immatriculation|count|\n",
      "+---+---+----+----+------------------+----------------+----------------+---------------+-----+\n",
      "+---+---+----+----+------------------+----------------+----------------+---------------+-----+\n",
      "\n"
     ]
    }
   ],
   "source": [
    "duplicates_client_mongo_extern = df_client.groupBy(df_client.columns).count().filter(\"count > 1\")\n",
    "duplicates_client_mongo_extern.show()"
   ]
  },
  {
   "cell_type": "markdown",
   "id": "1f5f1682-704e-4759-8c61-f19119b75190",
   "metadata": {},
   "source": [
    "<p>Il n'y  pas de doublon dans client_mongo_extern</p>"
   ]
  },
  {
   "cell_type": "code",
   "execution_count": 554,
   "id": "cd831861-0b6a-4afc-bec9-6fdcc1022c27",
   "metadata": {},
   "outputs": [
    {
     "name": "stderr",
     "output_type": "stream",
     "text": [
      "WARNING:matplotlib:Matplotlib created a temporary cache directory at /tmp/matplotlib-xfgpfblt because the default path (/home/vagrant/.config/matplotlib) is not a writable directory; it is highly recommended to set the MPLCONFIGDIR environment variable to a writable directory, in particular to speed up the import of Matplotlib and to better support multiprocessing.\n"
     ]
    }
   ],
   "source": [
    "import matplotlib.pyplot as plt\n",
    "import seaborn as sns"
   ]
  },
  {
   "cell_type": "code",
   "execution_count": 552,
   "id": "a13c0026-2c03-40f0-ab5e-6e8828f99f70",
   "metadata": {},
   "outputs": [],
   "source": [
    "pdf_catalogue_co2 = df_catalogue.toPandas()"
   ]
  },
  {
   "cell_type": "code",
   "execution_count": 555,
   "id": "e87fabb4-5e07-41f5-b7e0-c45c72d8dbc1",
   "metadata": {},
   "outputs": [
    {
     "data": {
      "image/png": "[encoded data removed]",
      "text/plain": [
       "<Figure size 640x480 with 1 Axes>"
      ]
     },
     "metadata": {},
     "output_type": "display_data"
    }
   ],
   "source": [
    "sns.histplot(pdf_catalogue_co2['prix'].astype(float), kde=True)\n",
    "plt.title('Distribution du prix')\n",
    "plt.xlabel('Prix')\n",
    "plt.ylabel('Fréquence')\n",
    "plt.show()"
   ]
  },
  {
   "cell_type": "code",
   "execution_count": 556,
   "id": "5105b3ea-1ef9-467c-93c2-fece05a94ff2",
   "metadata": {},
   "outputs": [
    {
     "data": {
      "image/png": "[encoded data removed]",
      "text/plain": [
       "<Figure size 640x480 with 1 Axes>"
      ]
     },
     "metadata": {},
     "output_type": "display_data"
    }
   ],
   "source": [
    "sns.histplot(pdf_catalogue_co2['puissance'], kde=True)\n",
    "plt.title('Distribution de la puissance')\n",
    "plt.xlabel('Puissance')\n",
    "plt.ylabel('Fréquence')\n",
    "plt.show()"
   ]
  },
  {
   "cell_type": "code",
   "execution_count": 557,
   "id": "dcea3959-c9b8-4d9b-9796-6c0316d15a63",
   "metadata": {},
   "outputs": [
    {
     "data": {
      "image/png": "[encoded data removed]",
      "text/plain": [
       "<Figure size 1000x600 with 1 Axes>"
      ]
     },
     "metadata": {},
     "output_type": "display_data"
    }
   ],
   "source": [
    "plt.figure(figsize=(10, 6))\n",
    "sns.countplot(y='marque_corrected', data=pdf_catalogue_co2, order=pdf_catalogue_co2['marque_corrected'].value_counts().index)\n",
    "plt.title('Distribution des marques')\n",
    "plt.xlabel('Nombre')\n",
    "plt.ylabel('Marque')\n",
    "plt.show()"
   ]
  },
  {
   "cell_type": "code",
   "execution_count": 559,
   "id": "dd1f6fcd-5af7-4d83-af39-53f5351244e3",
   "metadata": {},
   "outputs": [
    {
     "name": "stderr",
     "output_type": "stream",
     "text": [
      "                                                                                \r"
     ]
    }
   ],
   "source": [
    "pdf_client_mongo_extern = df_client.toPandas()"
   ]
  },
  {
   "cell_type": "code",
   "execution_count": 560,
   "id": "7c63a87c-ef18-45c5-8fbb-5fd63c486af4",
   "metadata": {},
   "outputs": [
    {
     "data": {
      "image/png": "[encoded data removed]",
      "text/plain": [
       "<Figure size 640x480 with 1 Axes>"
      ]
     },
     "metadata": {},
     "output_type": "display_data"
    }
   ],
   "source": [
    "sns.histplot(pdf_client_mongo_extern['age'], kde=True)\n",
    "plt.title('Distribution de l\\'âge')\n",
    "plt.xlabel('Âge')\n",
    "plt.ylabel('Fréquence')\n",
    "plt.show()"
   ]
  },
  {
   "cell_type": "code",
   "execution_count": 561,
   "id": "de49b004-1cf8-4ed2-9e59-963ee80884b5",
   "metadata": {},
   "outputs": [
    {
     "data": {
      "image/png": "[encoded data removed]",
      "text/plain": [
       "<Figure size 640x480 with 1 Axes>"
      ]
     },
     "metadata": {},
     "output_type": "display_data"
    }
   ],
   "source": [
    "sns.histplot(pdf_client_mongo_extern['taux'], kde=True)\n",
    "plt.title('Distribution du taux')\n",
    "plt.xlabel('Taux')\n",
    "plt.ylabel('Fréquence')\n",
    "plt.show()"
   ]
  },
  {
   "cell_type": "markdown",
   "id": "6b0aa697-b9dd-44e7-a0b4-77cd52b87e43",
   "metadata": {},
   "source": [
    "## Variables liées"
   ]
  },
  {
   "cell_type": "code",
   "execution_count": 562,
   "id": "654d2c9d-fd6e-43af-b595-b560ac518f5c",
   "metadata": {},
   "outputs": [
    {
     "data": {
      "image/png": "[encoded data removed]",
      "text/plain": [
       "<Figure size 640x480 with 1 Axes>"
      ]
     },
     "metadata": {},
     "output_type": "display_data"
    }
   ],
   "source": [
    "sns.scatterplot(x='puissance', y=pdf_catalogue_co2['prix'].astype(float), data=pdf_catalogue_co2)\n",
    "plt.title('Relation entre la puissance et le prix')\n",
    "plt.xlabel('Puissance')\n",
    "plt.ylabel('Prix')\n",
    "plt.show()"
   ]
  },
  {
   "cell_type": "code",
   "execution_count": 563,
   "id": "4a89fba0-ec47-4897-a69a-682ba32b17aa",
   "metadata": {},
   "outputs": [
    {
     "data": {
      "image/png": "[encoded data removed]",
      "text/plain": [
       "<Figure size 640x480 with 1 Axes>"
      ]
     },
     "metadata": {},
     "output_type": "display_data"
    }
   ],
   "source": [
    "sns.scatterplot(x='age', y='taux', data=pdf_client_mongo_extern)\n",
    "plt.title('Relation entre l\\'âge et le taux')\n",
    "plt.xlabel('Âge')\n",
    "plt.ylabel('Taux')\n",
    "plt.show()"
   ]
  },
  {
   "cell_type": "markdown",
   "id": "778ea840-8129-4341-8ec8-ff222441783e",
   "metadata": {},
   "source": [
    "### Descriptions des données "
   ]
  },
  {
   "cell_type": "markdown",
   "id": "1af1ccb1-d343-4075-b1de-463b8ff14197",
   "metadata": {},
   "source": [
    "#### Client"
   ]
  },
  {
   "cell_type": "code",
   "execution_count": 544,
   "id": "34b44f41-2431-4a94-a314-114648085093",
   "metadata": {
    "scrolled": true
   },
   "outputs": [
    {
     "name": "stderr",
     "output_type": "stream",
     "text": [
      "24/06/09 13:18:32 WARN SparkStringUtils: Truncated the string representation of a plan since it was too large. This behavior can be adjusted by setting 'spark.sql.debug.maxToStringFields'.\n",
      "[Stage 872:=============================================>           (4 + 1) / 5]\r"
     ]
    },
    {
     "name": "stdout",
     "output_type": "stream",
     "text": [
      "+-------+--------------------+------------------+------+-----------------+------------------+------------------+----------------+---------------+\n",
      "|summary|                  id|               age|  sexe|             taux|situationfamiliale|  nbenfantsacharge|deuxieme_voiture|immatriculation|\n",
      "+-------+--------------------+------------------+------+-----------------+------------------+------------------+----------------+---------------+\n",
      "|  count|              200000|            200000|200000|           200000|            200000|            200000|          200000|         200000|\n",
      "|   mean|                NULL| 43.68149929845661|  NULL|608.1501067358863|              NULL|1.2483113525214464|            NULL|           NULL|\n",
      "| stddev|                NULL|18.340335375894824|  NULL|335.4038183527258|              NULL|1.3875727205511366|            NULL|           NULL|\n",
      "|    min|665ae8f7f79a7173f...|                  |      |                 |                  |                  |                |        0 AB 42|\n",
      "|    max|665ae91ff79a7173f...|                 ?|   N/D|                ?|             Seule|                 ?|            true|     9999 XC 44|\n",
      "+-------+--------------------+------------------+------+-----------------+------------------+------------------+----------------+---------------+\n",
      "\n"
     ]
    },
    {
     "name": "stderr",
     "output_type": "stream",
     "text": [
      "                                                                                \r"
     ]
    }
   ],
   "source": [
    "df_client.describe().show()"
   ]
  },
  {
   "cell_type": "code",
   "execution_count": null,
   "id": "6ec58f6e-71b0-4be0-b111-348ee46d5886",
   "metadata": {},
   "outputs": [],
   "source": []
  },
  {
   "cell_type": "code",
   "execution_count": 22,
   "id": "c76dc191-753a-47f7-965d-509d97b8eb16",
   "metadata": {
    "scrolled": true
   },
   "outputs": [
    {
     "name": "stderr",
     "output_type": "stream",
     "text": [
      "                                                                                \r"
     ]
    },
    {
     "name": "stdout",
     "output_type": "stream",
     "text": [
      "+-------+---------------+-------+--------+------------------+-----------+--------+------------------+-------+-----------------+\n",
      "|summary|immatriculation| marque|     nom|         puissance|   longueur|nbplaces|          nbportes|couleur|             prix|\n",
      "+-------+---------------+-------+--------+------------------+-----------+--------+------------------+-------+-----------------+\n",
      "|  count|        2000001|2000001| 2000001|           2000000|    2000001| 2000000|           2000000|2000001|          2000001|\n",
      "|   mean|           NULL|   NULL|    NULL|       199.0421865|       NULL|     5.0|          4.868432|   NULL|    35782.5696715|\n",
      "| stddev|           NULL|   NULL|    NULL|137.14856637845043|       NULL|     0.0|0.4958084149033565|   NULL|25775.64060807992|\n",
      "|    min|        0 AB 42|   Audi|1007 1.4|                55|     courte|       5|                 3|  blanc|           101300|\n",
      "|    max|immatriculation| marque|     nom|               507|tr�s longue|       5|                 5|  rouge|             prix|\n",
      "+-------+---------------+-------+--------+------------------+-----------+--------+------------------+-------+-----------------+\n",
      "\n"
     ]
    }
   ],
   "source": [
    "df_immatriculation.describe().show()"
   ]
  },
  {
   "cell_type": "code",
   "execution_count": 23,
   "id": "4a9f9075-011d-49d7-b6bc-fcdd353ea993",
   "metadata": {},
   "outputs": [
    {
     "name": "stderr",
     "output_type": "stream",
     "text": [
      "24/06/07 00:57:20 WARN SampleSplitter: Not enough documents for more than one split! Consider setting mongo.input.split_size to a lower value.\n",
      "[Stage 31:>                                                         (0 + 1) / 1]\r"
     ]
    },
    {
     "name": "stdout",
     "output_type": "stream",
     "text": [
      "+-------+--------------------+------------------+----+------------------+------------------+----------------+----------------+\n",
      "|summary|                  id|               age|sexe|              taux|situationfamiliale|nbenfantsacharge|deuxieme_voiture|\n",
      "+-------+--------------------+------------------+----+------------------+------------------+----------------+----------------+\n",
      "|  count|                  20|                20|  20|                20|                 0|               0|              20|\n",
      "|   mean|                NULL|              45.0|NULL|             582.4|              NULL|            NULL|            NULL|\n",
      "| stddev|                NULL|19.246325691715263|NULL|345.65611142929475|              NULL|            NULL|            NULL|\n",
      "|    min|665caa3cf79a7173f...|                19|   F|              1112|              NULL|            NULL|           false|\n",
      "|    max|665caa3cf79a7173f...|                80|   M|               981|              NULL|            NULL|            true|\n",
      "+-------+--------------------+------------------+----+------------------+------------------+----------------+----------------+\n",
      "\n"
     ]
    },
    {
     "name": "stderr",
     "output_type": "stream",
     "text": [
      "                                                                                \r"
     ]
    }
   ],
   "source": [
    "df_marketing.describe().show()"
   ]
  },
  {
   "cell_type": "code",
   "execution_count": 25,
   "id": "b9c97fec-2422-4ed4-8a85-147303f8540c",
   "metadata": {},
   "outputs": [
    {
     "name": "stderr",
     "output_type": "stream",
     "text": [
      "[Stage 36:>                                                         (0 + 1) / 1]\r"
     ]
    },
    {
     "name": "stdout",
     "output_type": "stream",
     "text": [
      "+-------+-----------------+----------------+---------------+------------------+-----------+------------------+------------------+-------+------------------+-------------------+-----------------+------------------+\n",
      "|summary|               id|marque_corrected|            nom|         puissance|   longueur|          nbplaces|          nbportes|couleur|              prix|         malusbonus|        rejetsco2|       coutenergie|\n",
      "+-------+-----------------+----------------+---------------+------------------+-----------+------------------+------------------+-------+------------------+-------------------+-----------------+------------------+\n",
      "|  count|              270|             270|            270|               270|        270|               270|               270|    270|               270|                270|              270|               270|\n",
      "|   mean|            134.5|            NULL|           NULL|157.59259259259258|       NULL| 5.222222222222222| 4.814814814814815|   NULL|26668.055555555555|-1423.6397250910811|44.32184152009107| 233.7217796595414|\n",
      "| stddev|78.08649050892224|            NULL|           NULL| 90.55128935805324|       NULL|0.6297065660731499|0.5807978768533856|   NULL|19050.121111555487| 3697.1764451391673|53.02010163519272|195.63305996284322|\n",
      "|    min|                0|            AUDI|       1007 1.4|                55|     courte|                 5|                 3|  blanc|            101300|            -6000.0|              0.0|  72.7272720336914|\n",
      "|    max|              269|           VOLVO|Ypsilon 1.4 16V|               507|tr�s longue|                 7|                 5|  rouge|              9625|   7790.58642578125|187.6271209716797| 749.9796752929688|\n",
      "+-------+-----------------+----------------+---------------+------------------+-----------+------------------+------------------+-------+------------------+-------------------+-----------------+------------------+\n",
      "\n"
     ]
    },
    {
     "name": "stderr",
     "output_type": "stream",
     "text": [
      "                                                                                \r"
     ]
    }
   ],
   "source": [
    "df_catalogue.describe().show()"
   ]
  },
  {
   "cell_type": "markdown",
   "id": "c85b1fc8-6e73-4fc4-874e-03bc34233c1a",
   "metadata": {},
   "source": [
    "## Exemple de contenue "
   ]
  },
  {
   "cell_type": "code",
   "execution_count": 30,
   "id": "72062e8c-7777-4a56-9708-4a7f9a553a4f",
   "metadata": {},
   "outputs": [
    {
     "name": "stdout",
     "output_type": "stream",
     "text": [
      "+--------------------+---+----+----+------------------+----------------+----------------+---------------+\n",
      "|                  id|age|sexe|taux|situationfamiliale|nbenfantsacharge|deuxieme_voiture|immatriculation|\n",
      "+--------------------+---+----+----+------------------+----------------+----------------+---------------+\n",
      "|665ae8f7f79a7173f...| 62|   M|1262|         En Couple|               1|           false|     6290 DM 24|\n",
      "|665ae8f7f79a7173f...| 68|   M| 514|         En Couple|               2|           false|     7530 VH 52|\n",
      "+--------------------+---+----+----+------------------+----------------+----------------+---------------+\n",
      "only showing top 2 rows\n",
      "\n"
     ]
    }
   ],
   "source": [
    "df_client.show(2)"
   ]
  },
  {
   "cell_type": "code",
   "execution_count": 27,
   "id": "13d24051-5fb0-4c35-97ab-5753cc343962",
   "metadata": {},
   "outputs": [
    {
     "name": "stdout",
     "output_type": "stream",
     "text": [
      "+---------------+-------+-----------+---------+--------+--------+--------+-------+--------+-----+\n",
      "|immatriculation| marque|        nom|puissance|longueur|nbplaces|nbportes|couleur|occasion| prix|\n",
      "+---------------+-------+-----------+---------+--------+--------+--------+-------+--------+-----+\n",
      "|immatriculation| marque|        nom|     NULL|longueur|    NULL|    NULL|couleur|    NULL| prix|\n",
      "|     3176 TS 67|Renault|Laguna 2.0T|      170|  longue|       5|       5|  blanc|   false|27300|\n",
      "+---------------+-------+-----------+---------+--------+--------+--------+-------+--------+-----+\n",
      "only showing top 2 rows\n",
      "\n"
     ]
    }
   ],
   "source": [
    "df_immatriculation.show(2)"
   ]
  },
  {
   "cell_type": "code",
   "execution_count": 28,
   "id": "c9767089-5f9c-49a9-8375-f71ad9b2189d",
   "metadata": {},
   "outputs": [
    {
     "name": "stdout",
     "output_type": "stream",
     "text": [
      "+---+----------------+------+---------+-----------+--------+--------+-------+--------+-----+----------+-----------------+----------------+\n",
      "| id|marque_corrected|   nom|puissance|   longueur|nbplaces|nbportes|couleur|occasion| prix|malusbonus|        rejetsco2|     coutenergie|\n",
      "+---+----------------+------+---------+-----------+--------+--------+-------+--------+-----+----------+-----------------+----------------+\n",
      "|  0|           VOLVO|S80 T6|      272|tr�s longue|       5|       5|  blanc|   false|50500|       0.0|42.45454406738281|72.7272720336914|\n",
      "|  8|           VOLVO|S80 T6|      272|tr�s longue|       5|       5|  blanc|    true|35350|       0.0|42.45454406738281|72.7272720336914|\n",
      "+---+----------------+------+---------+-----------+--------+--------+-------+--------+-----+----------+-----------------+----------------+\n",
      "only showing top 2 rows\n",
      "\n"
     ]
    }
   ],
   "source": [
    "df_catalogue.show(2)"
   ]
  },
  {
   "cell_type": "code",
   "execution_count": 30,
   "id": "fe81d23e-2721-4f49-a664-e15c699be68c",
   "metadata": {
    "scrolled": true
   },
   "outputs": [
    {
     "name": "stderr",
     "output_type": "stream",
     "text": [
      "24/06/07 01:00:41 WARN SampleSplitter: Not enough documents for more than one split! Consider setting mongo.input.split_size to a lower value.\n"
     ]
    },
    {
     "name": "stdout",
     "output_type": "stream",
     "text": [
      "+--------------------+---+----+----+------------------+----------------+----------------+\n",
      "|                  id|age|sexe|taux|situationfamiliale|nbenfantsacharge|deuxieme_voiture|\n",
      "+--------------------+---+----+----+------------------+----------------+----------------+\n",
      "|665caa3cf79a7173f...| 21|   F|1396|              NULL|            NULL|           false|\n",
      "|665caa3cf79a7173f...| 48|   M| 401|              NULL|            NULL|           false|\n",
      "+--------------------+---+----+----+------------------+----------------+----------------+\n",
      "only showing top 2 rows\n",
      "\n"
     ]
    }
   ],
   "source": [
    "df_marketing.show(2)"
   ]
  },
  {
   "cell_type": "markdown",
   "id": "76dd1636-c59a-4e6d-a72c-505fae977c9d",
   "metadata": {},
   "source": [
    "## Nettoyages des données"
   ]
  },
  {
   "cell_type": "markdown",
   "id": "03d007bc-4385-462f-8c1c-8113fae25cd4",
   "metadata": {},
   "source": [
    "### Client"
   ]
  },
  {
   "cell_type": "code",
   "execution_count": 122,
   "id": "d7503754-61b6-404b-be71-f507c53db981",
   "metadata": {},
   "outputs": [],
   "source": [
    "from pyspark.sql.functions import when, col, avg, trim, length, udf, coalesce, lower"
   ]
  },
  {
   "cell_type": "code",
   "execution_count": 43,
   "id": "f13d0222-8d57-4ba7-98d6-0b59bc10d142",
   "metadata": {},
   "outputs": [
    {
     "data": {
      "text/plain": [
       "['id',\n",
       " 'age',\n",
       " 'sexe',\n",
       " 'taux',\n",
       " 'situationfamiliale',\n",
       " 'nbenfantsacharge',\n",
       " 'deuxieme_voiture',\n",
       " 'immatriculation']"
      ]
     },
     "execution_count": 43,
     "metadata": {},
     "output_type": "execute_result"
    }
   ],
   "source": [
    "df_client.columns"
   ]
  },
  {
   "cell_type": "markdown",
   "id": "bced3108-e24e-44fe-b929-5c6d7dbd01dd",
   "metadata": {},
   "source": [
    "On nettoyera les données client comme suite:\n",
    "* **sexe**:<br>\n",
    "  Les valeurs possibles sont standardisées en trois catégories:\n",
    "    - 'M', 'Masculin', 'Homme' sont toutes remplacées par 'M'.\n",
    "    - 'F', 'Femme', 'Féminin' sont toutes remplacées par 'F'.\n",
    "    - Toute autre valeur ou valeur manquante est remplacée par 'Unknown'.\n",
    "* **taux**: <br>\n",
    "  Les valeurs nulles ou négatives de la colonne taux sont remplacées par la moyenne des taux pour chaque sexe.\n",
    "    * La moyenne des taux est calculée séparément pour chaque sexe (M, F, et Unknown).\n",
    "    * Si la valeur de taux est manquante ou négative:\n",
    "        - Elle est remplacée par la moyenne du taux pour le sexe correspondant.\n",
    "        - Si le sexe est inconnu (Unknown), la valeur de taux est remplacée par 0.\n",
    "* **age**: <br>\n",
    "  Les valeurs nulles ou négatives de la colonne age sont remplacées par la moyenne des âges pour chaque sexe.\n",
    "    * La moyenne des âges est calculée séparément pour chaque sexe (M, F, et Unknown).\n",
    "    * Si la valeur de age est manquante ou négative:\n",
    "        * Elle est remplacée par la moyenne de l'âge pour le sexe correspondant.\n",
    "        * Si le sexe est inconnu (Unknown), la valeur de age est remplacée par 0.\n",
    "* **situationfamiliale**: <br>\n",
    "  Les valeurs de la colonne situationfamiliale sont standardisées:\n",
    "    * 'Célibataire', 'Seul', 'Seule' sont toutes remplacées par 'Célibataire'.\n",
    "    * 'Marié', 'Mariée' sont remplacés par 'Marié(e)'.\n",
    "    * 'Divorcé', 'Divorcée' sont remplacés par 'Divorcé(e)'.\n",
    "    * 'En Couple' reste 'En Couple'.\n",
    "    * Toute autre valeur est remplacée par 'Unknown'.\n",
    "* **nbenfantsacharge**: <br>\n",
    "    Les valeurs nulles, négatives, ou indéterminées de la colonne nbenfantsacharge sont remplacées par -1.\n",
    "    Les valeurs sont standardisées:\n",
    "    * Toute valeur nulle, négative, vide (''), ou ? est remplacée par -1.\n",
    "    * Les autres valeurs sont converties en entiers."
   ]
  },
  {
   "cell_type": "code",
   "execution_count": 404,
   "id": "bbf1f6a4-0a46-4507-8b6f-880ad1e31994",
   "metadata": {},
   "outputs": [],
   "source": [
    "def clean_client_data(df):\n",
    "    # Nettoyage de la colonne Sexe\n",
    "    df = df.withColumn('sexe', when(col('sexe').isin(['M', 'Masculin', 'Homme']), 'M')\n",
    "                                .when(col('sexe').isin(['F', 'Femme', 'Féminin']), 'F')\n",
    "                                .otherwise('Unknown'))\n",
    "\n",
    "    # Calculer la moyenne des taux par sexe\n",
    "    avg_taux_by_sexe = df.groupBy('sexe').agg(avg('taux').alias('avg_taux')).collect()\n",
    "    avg_taux_dict = {row['sexe']: row['avg_taux'] for row in avg_taux_by_sexe}\n",
    "\n",
    "    # Remplacer les valeurs nulles ou négatives dans la colonne taux\n",
    "    df = df.withColumn('taux', when(col('taux').cast('int').isNull() | (col('taux').cast('int') < 0), col('sexe')).otherwise(col('taux').cast('int')))\n",
    "    df = df.withColumn('taux', when(col('taux') == 'M', avg_taux_dict.get('M', 0))\n",
    "                               .when(col('taux') == 'F', avg_taux_dict.get('F', 0))\n",
    "                               .when(col('taux') == 'Unknown', 0)\n",
    "                               .otherwise(col('taux').cast('int')))\n",
    "\n",
    "    # Calculer la moyenne des âges par sexe\n",
    "    avg_age_by_sexe = df.groupBy('sexe').agg(avg('age').alias('avg_age')).collect()\n",
    "    avg_age_dict = {row['sexe']: row['avg_age'] for row in avg_age_by_sexe}\n",
    "\n",
    "    # Remplacer les valeurs nulles ou négatives dans la colonne age\n",
    "    df = df.withColumn('age', when(col('age').isNull() | col('age').cast('int').isNull() | (col('age').cast('int') < 0), col('sexe')).otherwise(col('age').cast('int')))\n",
    "    df = df.withColumn('age', when(col('age') == 'M', avg_age_dict.get('M', 0))\n",
    "                              .when(col('age') == 'F', avg_age_dict.get('F', 0))\n",
    "                              .when(col('age') == 'Unknown', 0)\n",
    "                              .otherwise(col('age').cast('int')))\n",
    "\n",
    "    # Nettoyage de la colonne Situation Familiale\n",
    "    df = df.withColumn('situationfamiliale', \n",
    "                       when(col('situationfamiliale').isin(['Célibataire', 'Seul', 'Seule']), 'Célibataire')\n",
    "                       .when(col('situationfamiliale').isin(['Marié', 'Mariée']), 'Marié(e)')\n",
    "                       .when(col('situationfamiliale').isin(['Divorcé', 'Divorcée']), 'Divorcé(e)')\n",
    "                       .when(col('situationfamiliale').isin(['En Couple']), 'En Couple')\n",
    "                       .otherwise('Unknown'))\n",
    "\n",
    "    # Nettoyage de la colonne Nombre d'Enfants à Charge\n",
    "    df = df.withColumn('nbenfantsacharge', when(col('nbenfantsacharge').cast('int').isNull() | (col('nbenfantsacharge').cast('int') < 0) | (trim(col('nbenfantsacharge')) == '') | (trim(col('nbenfantsacharge')) == '?'), -1)\n",
    "                                     .otherwise(col('nbenfantsacharge').cast('int')))\n",
    "    return df\n"
   ]
  },
  {
   "cell_type": "code",
   "execution_count": 405,
   "id": "bcffea75-8ee1-46a6-92e7-9d0e18cd927e",
   "metadata": {},
   "outputs": [
    {
     "name": "stderr",
     "output_type": "stream",
     "text": [
      "                                                                                \r"
     ]
    }
   ],
   "source": [
    "df_client_cleaned = clean_client_data(df_client)"
   ]
  },
  {
   "cell_type": "markdown",
   "id": "3ec30de3-ad40-4f41-97e8-fa276a27aad7",
   "metadata": {},
   "source": [
    "### Immatriculation"
   ]
  },
  {
   "cell_type": "code",
   "execution_count": 75,
   "id": "6b8239cf-e21b-48ee-9c4f-589084c7768b",
   "metadata": {},
   "outputs": [
    {
     "data": {
      "text/plain": [
       "['immatriculation',\n",
       " 'marque',\n",
       " 'nom',\n",
       " 'puissance',\n",
       " 'longueur',\n",
       " 'nbplaces',\n",
       " 'nbportes',\n",
       " 'couleur',\n",
       " 'occasion',\n",
       " 'prix']"
      ]
     },
     "execution_count": 75,
     "metadata": {},
     "output_type": "execute_result"
    }
   ],
   "source": [
    "df_immatriculation.columns"
   ]
  },
  {
   "cell_type": "markdown",
   "id": "0ef90bd5-1b2e-4908-bff0-15593678ff04",
   "metadata": {},
   "source": [
    "* **Colonne puissance**: <br>\n",
    "Les valeurs nulles ou négatives de la colonne `puissance` sont remplacées par la moyenne des puissances calculée sur l'ensemble des données.\n",
    "* **Colonne longueur**: <br>\n",
    "    * Les valeurs de la colonne `longueur` sont nettoyées en supprimant les espaces superflus en utilisant la fonction `trim`.\n",
    "    * Les valeurs de la colonne `longueur` sont converties en minuscules pour uniformiser les données.\n",
    "* **Colonne nbplaces**: <br>\n",
    "    * Les valeurs nulles ou non entières de la colonne `nbplaces` sont remplacées par -1.\n",
    "    * Les autres valeurs sont converties en entiers.\n",
    "* **Colonne nbportes**: <br>\n",
    "    * Les valeurs nulles ou non entières de la colonne `nbportes` sont remplacées par -1.\n",
    "    * Les autres valeurs sont converties en entiers.\n",
    "* **Colonne prix**: <br>\n",
    "    * Les valeurs nulles ou non entières de la colonne `prix` sont remplacées par 0.\n",
    "    * Les autres valeurs sont converties en entiers.\n",
    "* **Colonne occasion**: <br>\n",
    "Les valeurs de la colonne `occasion` sont converties en booléens :\n",
    "    * 'true' devient `True`.\n",
    "    * 'false' devient `False`.\n",
    "Toute autre valeur est remplacée par `False`.\n",
    "* **Colonne marque**: <br>\n",
    "Les valeurs de la colonne `marque` sont converties en minuscules pour uniformiser les données.\n",
    "* **Colonne nom**: <br>\n",
    "Les valeurs de la colonne `nom` sont converties en minuscules pour uniformiser les données.\n",
    "* **Colonne couleur**: <br>\n",
    "Les valeurs de la colonne `couleur` sont converties en minuscules pour uniformiser les données."
   ]
  },
  {
   "cell_type": "code",
   "execution_count": 268,
   "id": "bf3a46f5-01d2-4b34-8fe2-dd1ff1f04e80",
   "metadata": {},
   "outputs": [],
   "source": [
    "def clean_immatriculation_data(df):\n",
    "    # Nettoyage de la colonne Puissance\n",
    "    avg_puissance = df.agg(avg('puissance').alias('avg_puissance')).first()['avg_puissance']\n",
    "    df = df.withColumn('puissance', when(col('puissance').isNull() | (col('puissance') < 0), avg_puissance)\n",
    "                                .otherwise(col('puissance')))\n",
    "    \n",
    "    # Nettoyage de la colonne longueur (catégorielle)\n",
    "    df = df.withColumn('longueur', trim(col('longueur')))\n",
    "    \n",
    "    # Nettoyage de la colonne nbplaces\n",
    "    df = df.withColumn('nbplaces', when(col('nbplaces').cast('int').isNull(), -1).otherwise(col('nbplaces').cast('int')))\n",
    "    \n",
    "    # Nettoyage de la colonne nbportes\n",
    "    df = df.withColumn('nbportes',when(col('nbportes').cast('int').isNull(), -1)\n",
    "                                   .otherwise(col('nbportes').cast('int')))\n",
    "    \n",
    "    # Nettoyage de la colonne prix\n",
    "    df = df.withColumn('prix', \n",
    "                                           when(col('prix').cast('int').isNull(), 0)\n",
    "                                           .otherwise(col('prix').cast('int')))\n",
    "    \n",
    "    # Nettoyage de la colonne occasion (booléenne)\n",
    "    df = df.withColumn('occasion', \n",
    "                                           when(col('occasion') == 'true', True)\n",
    "                                           .when(col('occasion') == 'false', False)\n",
    "                                           .otherwise(False))\n",
    "\n",
    "    # Transformer les valeurs de la colonne 'marque' en minuscules\n",
    "    df = df.withColumn('marque', lower(col('marque')))\n",
    "\n",
    "    # Transformer les valeurs de la colonne 'nom' en minuscules\n",
    "    df = df.withColumn('nom', lower(col('nom')))\n",
    "\n",
    "    # Transformer les valeurs de la colonne 'longueur' en minuscules\n",
    "    df = df.withColumn('longueur', lower(col('longueur')))\n",
    "\n",
    "    # Transformer les valeurs de la colonne 'couleur' en minuscules\n",
    "    df = df.withColumn('couleur', lower(col('couleur')))\n",
    "    \n",
    "    return df"
   ]
  },
  {
   "cell_type": "code",
   "execution_count": 269,
   "id": "74105ce3-d565-4c8e-ab65-14ee0c9c7c1b",
   "metadata": {},
   "outputs": [
    {
     "name": "stderr",
     "output_type": "stream",
     "text": [
      "                                                                                \r"
     ]
    }
   ],
   "source": [
    "df_immatriculation_cleaned = clean_immatriculation_data(df_immatriculation)"
   ]
  },
  {
   "cell_type": "code",
   "execution_count": 270,
   "id": "5020c953-684c-45d1-98b1-f67291709050",
   "metadata": {},
   "outputs": [
    {
     "name": "stdout",
     "output_type": "stream",
     "text": [
      "+---------------+----------+------------+-----------+-----------+--------+--------+-------+--------+-----+\n",
      "|immatriculation|    marque|         nom|  puissance|   longueur|nbplaces|nbportes|couleur|occasion| prix|\n",
      "+---------------+----------+------------+-----------+-----------+--------+--------+-------+--------+-----+\n",
      "|immatriculation|    marque|         nom|199.0421865|   longueur|      -1|      -1|couleur|   false|    0|\n",
      "|     3176 TS 67|   renault| laguna 2.0t|      170.0|     longue|       5|       5|  blanc|   false|27300|\n",
      "|     3721 QS 49|     volvo|      s80 t6|      272.0|tr�s longue|       5|       5|   noir|   false|50500|\n",
      "|     9099 UV 26|volkswagen|golf 2.0 fsi|      150.0|    moyenne|       5|       5|   gris|    true|16029|\n",
      "|     3563 LA 55|   peugeot|    1007 1.4|       75.0|     courte|       5|       5|  blanc|    true| 9625|\n",
      "+---------------+----------+------------+-----------+-----------+--------+--------+-------+--------+-----+\n",
      "only showing top 5 rows\n",
      "\n"
     ]
    }
   ],
   "source": [
    "df_immatriculation_cleaned.show(5)"
   ]
  },
  {
   "cell_type": "markdown",
   "id": "e95e7a63-a5bc-421c-8cc4-6e5af690a8d4",
   "metadata": {},
   "source": [
    "### Catalogue (fusionné avec CO2)"
   ]
  },
  {
   "cell_type": "markdown",
   "id": "a4fd446f-9ef2-4740-a32d-0a0b560384cf",
   "metadata": {},
   "source": [
    "* **Colonne puissance**: <br>\n",
    "Les valeurs nulles ou négatives de la colonne `puissance` sont remplacées par la moyenne des puissances calculée sur l'ensemble des données.\n",
    "* **Colonne longueur**: <br>\n",
    "    * Les valeurs de la colonne `longueur` sont nettoyées en supprimant les espaces superflus en utilisant la fonction `trim`.\n",
    "    * Les valeurs de la colonne `longueur` sont converties en minuscules pour uniformiser les données.\n",
    "* **Colonne nbplaces**: <br>\n",
    "    * Les valeurs nulles ou non entières de la colonne `nbplaces` sont remplacées par -1.\n",
    "    * Les autres valeurs sont converties en entiers.\n",
    "* **Colonne nbportes**: <br>\n",
    "    * Les valeurs nulles ou non entières de la colonne `nbportes` sont remplacées par -1.\n",
    "    * Les autres valeurs sont converties en entiers.\n",
    "* **Colonne prix**: <br>\n",
    "    * Les valeurs nulles ou non entières de la colonne `prix` sont remplacées par 0.\n",
    "    * Les autres valeurs sont converties en entiers.\n",
    "* **Colonne occasion**: <br>\n",
    "Les valeurs de la colonne `occasion` sont converties en booléens :\n",
    "    * 'true' devient `True`.\n",
    "    * 'false' devient `False`.\n",
    "Toute autre valeur est remplacée par `False`.\n",
    "* **Colonne marque**: <br>\n",
    "Les valeurs de la colonne `marque` sont converties en minuscules pour uniformiser les données.\n",
    "* **Colonne nom**: <br>\n",
    "Les valeurs de la colonne `nom` sont converties en minuscules pour uniformiser les données.\n",
    "* **Colonne couleur**: <br>\n",
    "Les valeurs de la colonne `couleur` sont converties en minuscules pour uniformiser les données.\n",
    "* **Colonne malusbonus**: <br>\n",
    "    * Les valeurs nulles ou non entières de la colonne `malusbonus` sont remplacées par `0`.\n",
    "    * Les autres valeurs sont converties en entiers.\n",
    "* **Colonne rejetsco2**: <br>\n",
    "    * Les valeurs nulles ou non entières de la colonne `rejetsco2` sont remplacées par `0`.\n",
    "    * Les autres valeurs sont converties en entiers.\n",
    "* **Colonne coutenergie**: <br>\n",
    "    * Les valeurs nulles ou non entières de la colonne `coutenergie` sont remplacées par `0`.\n",
    "    * Les autres valeurs sont converties en entiers."
   ]
  },
  {
   "cell_type": "code",
   "execution_count": 248,
   "id": "05fe7ecc-9cde-43a3-be35-ad6aa312ceb4",
   "metadata": {},
   "outputs": [],
   "source": [
    "def clean_catalogue_data(df_catalogue):\n",
    "    # Nettoyage de la colonne Puissance\n",
    "    avg_puissance = df_catalogue.agg(avg('puissance').alias('avg_puissance')).first()['avg_puissance']\n",
    "    df_catalogue = df_catalogue.withColumn('puissance', when(col('puissance').isNull() | (col('puissance') < 0), avg_puissance)\n",
    "                                .otherwise(col('puissance')))\n",
    "    \n",
    "    # Nettoyage de la colonne longueur (catégorielle)\n",
    "    df_catalogue = df_catalogue.withColumn('longueur', trim(col('longueur')))\n",
    "    \n",
    "    # Nettoyage de la colonne nbplaces\n",
    "    df_catalogue = df_catalogue.withColumn('nbplaces', \n",
    "                                           when(col('nbplaces').cast('int').isNull(), -1)\n",
    "                                           .otherwise(col('nbplaces').cast('int')))\n",
    "    \n",
    "    # Nettoyage de la colonne nbportes\n",
    "    df_catalogue = df_catalogue.withColumn('nbportes', \n",
    "                                           when(col('nbportes').cast('int').isNull(), -1)\n",
    "                                           .otherwise(col('nbportes').cast('int')))\n",
    "    \n",
    "    # Nettoyage de la colonne prix\n",
    "    df_catalogue = df_catalogue.withColumn('prix', \n",
    "                                           when(col('prix').cast('int').isNull(), 0)\n",
    "                                           .otherwise(col('prix').cast('int')))\n",
    "    \n",
    "    # Nettoyage de la colonne malusbonus\n",
    "    df_catalogue = df_catalogue.withColumn('malusbonus', \n",
    "                                           when(col('malusbonus').cast('int').isNull(), 0)\n",
    "                                           .otherwise(col('malusbonus').cast('int')))\n",
    "    \n",
    "    # Nettoyage de la colonne rejetsco2\n",
    "    df_catalogue = df_catalogue.withColumn('rejetsco2', \n",
    "                                           when(col('rejetsco2').cast('int').isNull(), 0)\n",
    "                                           .otherwise(col('rejetsco2').cast('int')))\n",
    "    \n",
    "    # Nettoyage de la colonne coutenergie\n",
    "    df_catalogue = df_catalogue.withColumn('coutenergie', \n",
    "                                           when(col('coutenergie').cast('int').isNull(), 0)\n",
    "                                           .otherwise(col('coutenergie').cast('int')))\n",
    "    \n",
    "    # Nettoyage de la colonne occasion (booléenne)\n",
    "    df_catalogue = df_catalogue.withColumn('occasion', \n",
    "                                           when(col('occasion') == 'true', True)\n",
    "                                           .when(col('occasion') == 'false', False)\n",
    "                                           .otherwise(False))\n",
    "\n",
    "    # Transformer les valeurs de la colonne 'marque_corrected' en minuscules\n",
    "    df_catalogue = df_catalogue.withColumn('marque_corrected', lower(col('marque_corrected')))\n",
    "\n",
    "    # Transformer les valeurs de la colonne 'nom' en minuscules\n",
    "    df_catalogue = df_catalogue.withColumn('nom', lower(col('nom')))\n",
    "\n",
    "    # Transformer les valeurs de la colonne 'longueur' en minuscules\n",
    "    df_catalogue = df_catalogue.withColumn('longueur', lower(col('longueur')))\n",
    "\n",
    "    # Transformer les valeurs de la colonne 'couleur' en minuscules\n",
    "    df_catalogue = df_catalogue.withColumn('couleur', lower(col('couleur')))\n",
    "    \n",
    "    return df_catalogue"
   ]
  },
  {
   "cell_type": "code",
   "execution_count": 249,
   "id": "c6f39f13-a15f-4191-b8e3-61222f827a0e",
   "metadata": {},
   "outputs": [],
   "source": [
    "# Appliquer la fonction de nettoyage\n",
    "df_cleaned_catalogue = clean_catalogue_data(df_catalogue)"
   ]
  },
  {
   "cell_type": "code",
   "execution_count": 250,
   "id": "39f21805-c0d8-4815-8141-22689e0188bb",
   "metadata": {},
   "outputs": [
    {
     "name": "stdout",
     "output_type": "stream",
     "text": [
      "+---+----------------+--------------+---------+-----------+--------+--------+-------+--------+-----+----------+---------+-----------+\n",
      "| id|marque_corrected|           nom|puissance|   longueur|nbplaces|nbportes|couleur|occasion| prix|malusbonus|rejetsco2|coutenergie|\n",
      "+---+----------------+--------------+---------+-----------+--------+--------+-------+--------+-----+----------+---------+-----------+\n",
      "|  0|           volvo|        s80 t6|    272.0|tr�s longue|       5|       5|  blanc|   false|50500|         0|       42|         72|\n",
      "|  8|           volvo|        s80 t6|    272.0|tr�s longue|       5|       5|  blanc|    true|35350|         0|       42|         72|\n",
      "| 11|      volkswagen|touran 2.0 fsi|    150.0|     longue|       7|       5|   gris|    true|19138|     -1714|       23|         96|\n",
      "| 16|      volkswagen|touran 2.0 fsi|    150.0|     longue|       7|       5|   noir|    true|19138|     -1714|       23|         96|\n",
      "| 27|      volkswagen|   polo 1.2 6v|     55.0|     courte|       5|       3|  rouge|   false|12200|     -1714|       23|         96|\n",
      "+---+----------------+--------------+---------+-----------+--------+--------+-------+--------+-----+----------+---------+-----------+\n",
      "only showing top 5 rows\n",
      "\n"
     ]
    }
   ],
   "source": [
    "df_cleaned_catalogue.show(5)"
   ]
  },
  {
   "cell_type": "markdown",
   "id": "2c9a60ff-076a-4f6d-ad8f-c859c59971df",
   "metadata": {},
   "source": [
    "# II. Détermination de la catégorie des véhicules"
   ]
  },
  {
   "cell_type": "code",
   "execution_count": 86,
   "id": "b635ff62-c754-44ab-bc00-804d8d1f8429",
   "metadata": {},
   "outputs": [],
   "source": [
    "import numpy as np"
   ]
  },
  {
   "cell_type": "code",
   "execution_count": 87,
   "id": "7ff4549d-55c5-45e6-801b-9b9749d45be9",
   "metadata": {},
   "outputs": [],
   "source": [
    "from pyspark.sql.types import StringType\n",
    "from pyspark.ml.feature import VectorAssembler, StandardScaler\n",
    "from pyspark.ml.clustering import KMeans"
   ]
  },
  {
   "cell_type": "code",
   "execution_count": 251,
   "id": "788c4bb4-a472-4ff6-957f-b2fd2e1e0dc5",
   "metadata": {},
   "outputs": [],
   "source": [
    "def determine_vehicle_type(df_catalogue, vehicle_types):\n",
    "    # Convertir les colonnes catégorielles en numériques\n",
    "    df_catalogue = df_catalogue.withColumn('longueur',\n",
    "        when(col('longueur') == 'courte', 1.0)\n",
    "        .when(col('longueur') == 'moyenne', 2.0)\n",
    "        .when(col('longueur') == 'longue', 3.0)\n",
    "        .otherwise(2.0))\n",
    "\n",
    "    # Sélectionner les caractéristiques pertinentes pour le clustering\n",
    "    features = ['puissance', 'longueur', 'nbplaces', 'nbportes', 'prix', 'malusbonus', 'rejetsco2', 'coutenergie']\n",
    "\n",
    "    # Assembler les caractéristiques en un vecteur de caractéristiques\n",
    "    assembler = VectorAssembler(inputCols=features, outputCol='features')\n",
    "    df_assembled = assembler.transform(df_catalogue)\n",
    "\n",
    "    # Standardiser les caractéristiques\n",
    "    scaler = StandardScaler(inputCol='features', outputCol='scaled_features', withStd=True, withMean=True)\n",
    "    scaler_model = scaler.fit(df_assembled)\n",
    "    df_scaled = scaler_model.transform(df_assembled)\n",
    "\n",
    "    # Appliquer K-Means\n",
    "    k = len(vehicle_types)  # Nombre de clusters basé sur le nombre de types de véhicules fournis\n",
    "    kmeans = KMeans(featuresCol='scaled_features', k=k, seed=1)\n",
    "    model = kmeans.fit(df_scaled)\n",
    "    df_clusters = model.transform(df_scaled)\n",
    "\n",
    "    # Définir une fonction UDF pour nommer les catégories\n",
    "    def categorize_vehicle(cluster):\n",
    "        if cluster < len(vehicle_types):\n",
    "            return vehicle_types[cluster]\n",
    "        else:\n",
    "            return \"Autre\"\n",
    "\n",
    "    # Enregistrer la fonction UDF\n",
    "    categorize_vehicle_udf = udf(categorize_vehicle, StringType())\n",
    "\n",
    "    # Ajouter une nouvelle colonne avec les catégories\n",
    "    df_with_type = df_clusters.withColumn(\"typeVoiture\", categorize_vehicle_udf(col(\"prediction\")))\n",
    "\n",
    "    # Sélectionner toutes les colonnes d'origine et ajouter la colonne typeVoiture\n",
    "    df_final = df_with_type.select(*df_catalogue.columns, 'typeVoiture')\n",
    "\n",
    "    return df_final"
   ]
  },
  {
   "cell_type": "code",
   "execution_count": 619,
   "id": "f0cd526b-3a32-4379-b3ca-3ed86c7d47e7",
   "metadata": {},
   "outputs": [],
   "source": [
    "# Définir les types de véhicules\n",
    "vehicle_types = [\n",
    "    \"Citadine\",\n",
    "    \"Compacte\",\n",
    "    \"Familiale\",\n",
    "    \"SUV\",\n",
    "    \"Crossover\",\n",
    "    \"Monospace\",\n",
    "    \"Utilitaire\",\n",
    "    \"Coupé\",\n",
    "    \"Cabriolet\",\n",
    "    \"Sportive\",\n",
    "    \"Luxe\",\n",
    "    \"Berline\",\n",
    "    \"Pick-up\",\n",
    "    \"Hybride\",\n",
    "    \"Electrique\",\n",
    "    \"Véhicule tout-terrain\",\n",
    "    \"Véhicule de luxe\",\n",
    "    \"Véhicule utilitaire léger\",\n",
    "    \"Véhicule de loisirs\",\n",
    "    \"Véhicule autonome\",\n",
    "    \"Véhicule électrique à batterie\",\n",
    "    \"Véhicule électrique à hydrogène\"\n",
    "]"
   ]
  },
  {
   "cell_type": "code",
   "execution_count": 620,
   "id": "f1cf75d1-474f-4a50-812d-e2b9e4bc2656",
   "metadata": {},
   "outputs": [
    {
     "name": "stderr",
     "output_type": "stream",
     "text": [
      "                                                                                \r"
     ]
    }
   ],
   "source": [
    "\n",
    "# Appliquer la fonction pour déterminer le type de voiture\n",
    "df_catalogue_with_type = determine_vehicle_type(df_cleaned_catalogue, vehicle_types)"
   ]
  },
  {
   "cell_type": "code",
   "execution_count": 621,
   "id": "82b986e2-785f-40ae-b780-ca58c7ae8ab0",
   "metadata": {},
   "outputs": [
    {
     "name": "stdout",
     "output_type": "stream",
     "text": [
      "+---+----------------+--------------+---------+--------+--------+--------+-------+--------+-----+----------+---------+-----------+-----------+\n",
      "| id|marque_corrected|           nom|puissance|longueur|nbplaces|nbportes|couleur|occasion| prix|malusbonus|rejetsco2|coutenergie|typeVoiture|\n",
      "+---+----------------+--------------+---------+--------+--------+--------+-------+--------+-----+----------+---------+-----------+-----------+\n",
      "|  0|           volvo|        s80 t6|    272.0|     2.0|       5|       5|  blanc|   false|50500|         0|       42|         72|   Citadine|\n",
      "|  8|           volvo|        s80 t6|    272.0|     2.0|       5|       5|  blanc|    true|35350|         0|       42|         72|   Citadine|\n",
      "| 11|      volkswagen|touran 2.0 fsi|    150.0|     3.0|       7|       5|   gris|    true|19138|     -1714|       23|         96| Utilitaire|\n",
      "| 16|      volkswagen|touran 2.0 fsi|    150.0|     3.0|       7|       5|   noir|    true|19138|     -1714|       23|         96| Utilitaire|\n",
      "| 27|      volkswagen|   polo 1.2 6v|     55.0|     1.0|       5|       3|  rouge|   false|12200|     -1714|       23|         96|   Compacte|\n",
      "+---+----------------+--------------+---------+--------+--------+--------+-------+--------+-----+----------+---------+-----------+-----------+\n",
      "only showing top 5 rows\n",
      "\n"
     ]
    }
   ],
   "source": [
    "# Afficher le DataFrame résultant\n",
    "df_catalogue_with_type.show(5)"
   ]
  },
  {
   "cell_type": "code",
   "execution_count": 154,
   "id": "4bf1e5ba-d7dd-44bf-a126-be2be7708ffe",
   "metadata": {},
   "outputs": [
    {
     "data": {
      "text/plain": [
       "['id',\n",
       " 'marque_corrected',\n",
       " 'nom',\n",
       " 'puissance',\n",
       " 'longueur',\n",
       " 'nbplaces',\n",
       " 'nbportes',\n",
       " 'couleur',\n",
       " 'occasion',\n",
       " 'prix',\n",
       " 'malusbonus',\n",
       " 'rejetsco2',\n",
       " 'coutenergie',\n",
       " 'typeVoiture']"
      ]
     },
     "execution_count": 154,
     "metadata": {},
     "output_type": "execute_result"
    }
   ],
   "source": [
    "df_catalogue_with_type.columns"
   ]
  },
  {
   "cell_type": "code",
   "execution_count": 550,
   "id": "bf34d5f6-8e7e-4203-9162-b60193281cdb",
   "metadata": {
    "scrolled": true
   },
   "outputs": [
    {
     "name": "stdout",
     "output_type": "stream",
     "text": [
      "+----------------+---------------+---------+--------+--------+--------+-------+--------+------+------------------+\n",
      "|marque_corrected|            nom|puissance|longueur|nbplaces|nbportes|couleur|occasion|  prix|       typeVoiture|\n",
      "+----------------+---------------+---------+--------+--------+--------+-------+--------+------+------------------+\n",
      "|            mini| copper 1.6 16v|    115.0|     1.0|       5|       5|  blanc|   false| 18200|Familiale/Routière|\n",
      "|        mercedes|           s500|    306.0|     2.0|       5|       5|   noir|   false|101300|          Citadine|\n",
      "|          lancia|ypsilon 1.4 16v|     90.0|     1.0|       5|       3|   bleu|    true|  9450|Familiale/Routière|\n",
      "|          nissan|    primera 1.6|    109.0|     3.0|       5|       5|   gris|   false| 18650|          Citadine|\n",
      "|          nissan|  maxima 3.0 v6|    200.0|     2.0|       5|       5|   bleu|   false| 30000|          Citadine|\n",
      "+----------------+---------------+---------+--------+--------+--------+-------+--------+------+------------------+\n",
      "only showing top 5 rows\n",
      "\n"
     ]
    }
   ],
   "source": [
    "df_catalogue_with_type.groupby('marque_corrected', 'nom', 'puissance', 'longueur', 'nbplaces', 'nbportes', 'couleur', 'occasion', 'prix', 'typeVoiture').count().select('marque_corrected', 'nom', 'puissance', 'longueur', 'nbplaces', 'nbportes', 'couleur', 'occasion', 'prix', 'typeVoiture').show(5)"
   ]
  },
  {
   "cell_type": "markdown",
   "id": "256e5133-0759-40fd-a49c-d21d6397705f",
   "metadata": {},
   "source": [
    "# III. Fusion de la nouvelle catalogue avec les données de vente dans `immatriculation`"
   ]
  },
  {
   "cell_type": "code",
   "execution_count": 551,
   "id": "600182f4-4a5b-4c04-bb2b-37668131566f",
   "metadata": {},
   "outputs": [],
   "source": [
    "def merge_catalogue_immatriculation(df_immatriculation, df_catalogue):\n",
    "    # Renommer les colonnes pour correspondre aux noms des colonnes dans le catalogue\n",
    "    df_immatriculations = df_immatriculation.withColumnRenamed(\"marque\", \"marque_corrected\")\n",
    "\n",
    "    df_immatriculations = df_immatriculations.withColumn('longueur',\n",
    "        when(col('longueur') == 'courte', 1.0)\n",
    "        .when(col('longueur') == 'moyenne', 2.0)\n",
    "        .when(col('longueur') == 'longue', 3.0)\n",
    "        .otherwise(2.0))\n",
    "\n",
    "    # Colonnes communes pour la fusion\n",
    "    common_columns = ['marque_corrected','nom','puissance','longueur','nbplaces','nbportes','couleur','occasion','prix']\n",
    "\n",
    "    # Fusionner les DataFrames sur les colonnes communes\n",
    "    df_merged = df_immatriculations.join(df_catalogue, on=common_columns, how='left')\n",
    "    \n",
    "    return df_merged"
   ]
  },
  {
   "cell_type": "code",
   "execution_count": 622,
   "id": "d8df724b-d9c7-40d7-a0f9-e238ff6be79b",
   "metadata": {},
   "outputs": [],
   "source": [
    "# Exemple d'utilisation de la fonction\n",
    "df_immatriculation_merged = merge_catalogue_immatriculation(df_immatriculation_cleaned, df_catalogue_with_type)"
   ]
  },
  {
   "cell_type": "code",
   "execution_count": 329,
   "id": "06fc7d74-6e29-4460-946c-b09b8210c610",
   "metadata": {},
   "outputs": [
    {
     "name": "stdout",
     "output_type": "stream",
     "text": [
      "+----------------+-----------+---------+--------+--------+--------+-----+----------+---------+-----------+-------------+\n",
      "|marque_corrected|        nom|puissance|longueur|nbplaces|nbportes| prix|malusbonus|rejetsco2|coutenergie|  typeVoiture|\n",
      "+----------------+-----------+---------+--------+--------+--------+-----+----------+---------+-----------+-------------+\n",
      "|         renault|laguna 2.0t|    170.0|     3.0|       5|       5|27300|     -6000|        0|        206|Sportive/Luxe|\n",
      "|         renault|laguna 2.0t|    170.0|     3.0|       5|       5|27300|     -6000|        0|        206|Sportive/Luxe|\n",
      "|         renault|laguna 2.0t|    170.0|     3.0|       5|       5|27300|     -6000|        0|        206|Sportive/Luxe|\n",
      "|         renault|laguna 2.0t|    170.0|     3.0|       5|       5|27300|     -6000|        0|        206|Sportive/Luxe|\n",
      "|         renault|laguna 2.0t|    170.0|     3.0|       5|       5|27300|     -6000|        0|        206|Sportive/Luxe|\n",
      "|           volvo|     s80 t6|    272.0|     2.0|       5|       5|50500|         0|       42|         72|Sportive/Luxe|\n",
      "|           volvo|     s80 t6|    272.0|     2.0|       5|       5|50500|         0|       42|         72|Sportive/Luxe|\n",
      "|           volvo|     s80 t6|    272.0|     2.0|       5|       5|50500|         0|       42|         72|Sportive/Luxe|\n",
      "|           volvo|     s80 t6|    272.0|     2.0|       5|       5|50500|         0|       42|         72|Sportive/Luxe|\n",
      "|           volvo|     s80 t6|    272.0|     2.0|       5|       5|50500|         0|       42|         72|Sportive/Luxe|\n",
      "+----------------+-----------+---------+--------+--------+--------+-----+----------+---------+-----------+-------------+\n",
      "only showing top 10 rows\n",
      "\n"
     ]
    }
   ],
   "source": [
    "df_immatriculation_merged.select(['marque_corrected', 'nom', 'puissance', 'longueur', 'nbplaces', 'nbportes',  'prix', 'malusbonus','rejetsco2','coutenergie','typeVoiture']).show(10)"
   ]
  },
  {
   "cell_type": "code",
   "execution_count": 330,
   "id": "6cb27689-368b-46a9-82d4-f02873987381",
   "metadata": {},
   "outputs": [
    {
     "name": "stderr",
     "output_type": "stream",
     "text": [
      "                                                                                \r"
     ]
    },
    {
     "name": "stdout",
     "output_type": "stream",
     "text": [
      "+----------------+-----------+---------+--------+--------+--------+-----+-------------+\n",
      "|marque_corrected|        nom|puissance|longueur|nbplaces|nbportes| prix|  typeVoiture|\n",
      "+----------------+-----------+---------+--------+--------+--------+-----+-------------+\n",
      "|         renault|laguna 2.0t|    170.0|     3.0|       5|       5|27300|Sportive/Luxe|\n",
      "|         renault|laguna 2.0t|    170.0|     3.0|       5|       5|27300|Sportive/Luxe|\n",
      "|         renault|laguna 2.0t|    170.0|     3.0|       5|       5|27300|Sportive/Luxe|\n",
      "|         renault|laguna 2.0t|    170.0|     3.0|       5|       5|27300|Sportive/Luxe|\n",
      "|         renault|laguna 2.0t|    170.0|     3.0|       5|       5|27300|Sportive/Luxe|\n",
      "|           volvo|     s80 t6|    272.0|     2.0|       5|       5|50500|Sportive/Luxe|\n",
      "|           volvo|     s80 t6|    272.0|     2.0|       5|       5|50500|Sportive/Luxe|\n",
      "|           volvo|     s80 t6|    272.0|     2.0|       5|       5|50500|Sportive/Luxe|\n",
      "|           volvo|     s80 t6|    272.0|     2.0|       5|       5|50500|Sportive/Luxe|\n",
      "|           volvo|     s80 t6|    272.0|     2.0|       5|       5|50500|Sportive/Luxe|\n",
      "+----------------+-----------+---------+--------+--------+--------+-----+-------------+\n",
      "only showing top 10 rows\n",
      "\n"
     ]
    }
   ],
   "source": [
    "df_immatriculation_merged.select(['marque_corrected', 'nom', 'puissance', 'longueur', 'nbplaces', 'nbportes', 'prix','typeVoiture']).show(10)"
   ]
  },
  {
   "cell_type": "code",
   "execution_count": 335,
   "id": "204ac6e1-fe6f-4740-970f-e3ed2c275f8c",
   "metadata": {},
   "outputs": [
    {
     "name": "stderr",
     "output_type": "stream",
     "text": [
      "                                                                                \r"
     ]
    },
    {
     "data": {
      "text/plain": [
       "2000001"
      ]
     },
     "execution_count": 335,
     "metadata": {},
     "output_type": "execute_result"
    }
   ],
   "source": [
    "df_immatriculation_merged.count()"
   ]
  },
  {
   "cell_type": "code",
   "execution_count": 336,
   "id": "1dcb8c55-ba6b-48c6-a20f-82af14b1027a",
   "metadata": {},
   "outputs": [
    {
     "name": "stderr",
     "output_type": "stream",
     "text": [
      "[Stage 529:>                                                        (0 + 1) / 1]\r"
     ]
    },
    {
     "name": "stdout",
     "output_type": "stream",
     "text": [
      "+------------------+-------+\n",
      "|       typeVoiture|  count|\n",
      "+------------------+-------+\n",
      "|          Citadine| 218821|\n",
      "|              NULL|      1|\n",
      "|     Sportive/Luxe|1231513|\n",
      "|Familiale/Routière| 549666|\n",
      "+------------------+-------+\n",
      "\n"
     ]
    },
    {
     "name": "stderr",
     "output_type": "stream",
     "text": [
      "                                                                                \r"
     ]
    }
   ],
   "source": [
    "df_immatriculation_merged.groupby('typeVoiture').count().show()"
   ]
  },
  {
   "cell_type": "code",
   "execution_count": 337,
   "id": "06e2b9c9-bd33-4dc1-a6c3-22d77fd5fd00",
   "metadata": {},
   "outputs": [
    {
     "data": {
      "text/plain": [
       "['marque_corrected',\n",
       " 'nom',\n",
       " 'puissance',\n",
       " 'longueur',\n",
       " 'nbplaces',\n",
       " 'nbportes',\n",
       " 'couleur',\n",
       " 'occasion',\n",
       " 'prix',\n",
       " 'immatriculation',\n",
       " 'id',\n",
       " 'malusbonus',\n",
       " 'rejetsco2',\n",
       " 'coutenergie',\n",
       " 'typeVoiture']"
      ]
     },
     "execution_count": 337,
     "metadata": {},
     "output_type": "execute_result"
    }
   ],
   "source": [
    "df_immatriculation_merged.columns"
   ]
  },
  {
   "cell_type": "markdown",
   "id": "17343c72-d049-48d4-a2b2-e9d6815d75b0",
   "metadata": {},
   "source": [
    "# IV. Fusion de immatriculation et de client"
   ]
  },
  {
   "cell_type": "code",
   "execution_count": 338,
   "id": "704096c4-94a7-45fe-a4d9-768c6dd7b8b9",
   "metadata": {},
   "outputs": [
    {
     "data": {
      "text/plain": [
       "['id',\n",
       " 'age',\n",
       " 'sexe',\n",
       " 'taux',\n",
       " 'situationfamiliale',\n",
       " 'nbenfantsacharge',\n",
       " 'deuxieme_voiture',\n",
       " 'immatriculation']"
      ]
     },
     "execution_count": 338,
     "metadata": {},
     "output_type": "execute_result"
    }
   ],
   "source": [
    "df_client_cleaned.columns"
   ]
  },
  {
   "cell_type": "code",
   "execution_count": 343,
   "id": "acd9a88a-8c2f-4711-a20e-4ac342d88dab",
   "metadata": {},
   "outputs": [],
   "source": [
    "def merge_client_immatriculation(df_client, df_immatriculation):\n",
    "    immatriculation_columns_used = ['immatriculation', 'typeVoiture']\n",
    "    # Fusionner les DataFrames sur les colonnes communes\n",
    "    df_merged = df_client.join(df_immatriculation.select(immatriculation_columns_used), on='immatriculation', how='left')\n",
    "\n",
    "    df_merged = df_merged.select(*df_client.columns, 'typeVoiture')\n",
    "    return df_merged"
   ]
  },
  {
   "cell_type": "code",
   "execution_count": 623,
   "id": "d368c638-fdf1-49d7-a551-39ec2b3b941c",
   "metadata": {},
   "outputs": [],
   "source": [
    "df_client_merged = merge_client_immatriculation(df_client_cleaned, df_immatriculation_merged)"
   ]
  },
  {
   "cell_type": "code",
   "execution_count": 345,
   "id": "ffa0dd4d-4419-48ff-853a-c1060a368981",
   "metadata": {},
   "outputs": [
    {
     "data": {
      "text/plain": [
       "['id',\n",
       " 'age',\n",
       " 'sexe',\n",
       " 'taux',\n",
       " 'situationfamiliale',\n",
       " 'nbenfantsacharge',\n",
       " 'deuxieme_voiture',\n",
       " 'immatriculation',\n",
       " 'typeVoiture']"
      ]
     },
     "execution_count": 345,
     "metadata": {},
     "output_type": "execute_result"
    }
   ],
   "source": [
    "df_client_merged.columns"
   ]
  },
  {
   "cell_type": "code",
   "execution_count": null,
   "id": "4d30d2d5-d59f-417e-8604-4c344fc1ecea",
   "metadata": {},
   "outputs": [],
   "source": [
    "df_client_merged"
   ]
  },
  {
   "cell_type": "markdown",
   "id": "71817be9-e85b-4bf4-b6d1-1e29c1107dbd",
   "metadata": {},
   "source": [
    "# V. Création de modele"
   ]
  },
  {
   "cell_type": "markdown",
   "id": "63a66f83-c6e1-43b4-9efb-4948d2952b65",
   "metadata": {},
   "source": [
    "### Préparation des données"
   ]
  },
  {
   "cell_type": "code",
   "execution_count": 372,
   "id": "18297691-c0ef-4649-9ab4-4e58843a771a",
   "metadata": {},
   "outputs": [],
   "source": [
    "from pyspark.sql.types import IntegerType\n",
    "from pyspark.ml.classification import DecisionTreeClassifier\n",
    "from pyspark.ml import Pipeline\n",
    "from pyspark.ml.feature import VectorAssembler\n",
    "from pyspark.ml.evaluation import MulticlassClassificationEvaluator\n",
    "from pyspark.ml.linalg import Vectors"
   ]
  },
  {
   "cell_type": "code",
   "execution_count": 660,
   "id": "37176de0-f9b3-48bb-a420-d22960340525",
   "metadata": {},
   "outputs": [],
   "source": [
    "def prepare_client_data(df, vehicle_types, have_vehicule_type = True):\n",
    "    # Transformer la colonne sexe en valeurs numériques\n",
    "    df = df.withColumn('sexe', \n",
    "                       when(col('sexe') == 'M', 0)\n",
    "                       .when(col('sexe') == 'F', 1)\n",
    "                       .otherwise(2))  # 2 pour 'Unknown'\n",
    "\n",
    "    df = df.withColumn('situationfamiliale', \n",
    "                        when(col('situationfamiliale') ==  'Célibataire', 0)\n",
    "                       .when(col('situationfamiliale') == 'Marié(e)', 1)\n",
    "                       .when(col('situationfamiliale') == 'Divorcé(e)', 2)\n",
    "                       .when(col('situationfamiliale') == 'En Couple', 3)\n",
    "                       .otherwise(10))\n",
    "\n",
    "    df = df.withColumn('deuxieme_voiture', \n",
    "                        when(col('deuxieme_voiture') ==  True, 0)\n",
    "                       .otherwise(1))\n",
    "\n",
    "    # Mapper les valeurs de typeVoiture en indices selon vehicle_types\n",
    "    def map_type_voiture(voiture):\n",
    "        try:\n",
    "            return vehicle_types.index(voiture)\n",
    "        except ValueError:\n",
    "            return -1  # Valeur par défaut si non trouvée\n",
    "\n",
    "    map_type_voiture_udf = udf(map_type_voiture, IntegerType())\n",
    "    if have_vehicule_type:\n",
    "        df = df.withColumn('typeVoiture', map_type_voiture_udf(col('typeVoiture')))\n",
    "\n",
    "    df_final = df\n",
    "\n",
    "    return df_final"
   ]
  },
  {
   "cell_type": "code",
   "execution_count": 624,
   "id": "255193e6-0bbf-4576-98c6-cddcc85c39a5",
   "metadata": {},
   "outputs": [],
   "source": [
    "df_prepared = prepare_client_data(df_client_merged, vehicle_types)"
   ]
  },
  {
   "cell_type": "code",
   "execution_count": 422,
   "id": "e8305581-077c-4c1b-9aae-dadc199102b5",
   "metadata": {},
   "outputs": [
    {
     "name": "stderr",
     "output_type": "stream",
     "text": [
      "[Stage 621:>                                                        (0 + 1) / 1]\r"
     ]
    },
    {
     "name": "stdout",
     "output_type": "stream",
     "text": [
      "+----+----+------+------------------+----------------+----------------+-----------+\n",
      "| age|sexe|  taux|situationfamiliale|nbenfantsacharge|deuxieme_voiture|typeVoiture|\n",
      "+----+----+------+------------------+----------------+----------------+-----------+\n",
      "|72.0|   0| 859.0|                 3|               2|               1|          2|\n",
      "|50.0|   1|1023.0|                 3|               1|               1|          2|\n",
      "|18.0|   1| 918.0|                 3|               2|               1|          2|\n",
      "|62.0|   0|1363.0|                 3|               2|               1|          2|\n",
      "|25.0|   0| 462.0|                10|               0|               1|          1|\n",
      "|78.0|   1| 533.0|                 3|               2|               1|          2|\n",
      "|18.0|   0| 528.0|                10|               0|               1|          2|\n",
      "|32.0|   0|1395.0|                 3|               1|               1|          2|\n",
      "|57.0|   1| 882.0|                 3|               3|               1|          2|\n",
      "|78.0|   0| 239.0|                 3|               4|               1|          2|\n",
      "|68.0|   0| 569.0|                 3|               0|               1|          2|\n",
      "|35.0|   0|1289.0|                 3|               3|               0|          2|\n",
      "|36.0|   1| 543.0|                 3|               2|               1|          2|\n",
      "|51.0|   0| 485.0|                10|               0|               1|          2|\n",
      "|57.0|   0| 421.0|                 3|               4|               1|          2|\n",
      "|31.0|   0| 589.0|                 0|               3|               1|          2|\n",
      "|36.0|   0| 417.0|                 3|               0|               1|          2|\n",
      "|58.0|   0| 543.0|                 3|               0|               0|          1|\n",
      "|25.0|   0|1255.0|                 3|               2|               1|          2|\n",
      "|43.0|   0| 154.0|                10|               0|               1|          2|\n",
      "+----+----+------+------------------+----------------+----------------+-----------+\n",
      "only showing top 20 rows\n",
      "\n"
     ]
    },
    {
     "name": "stderr",
     "output_type": "stream",
     "text": [
      "                                                                                \r"
     ]
    }
   ],
   "source": [
    "df_prepared.show()"
   ]
  },
  {
   "cell_type": "code",
   "execution_count": 364,
   "id": "a02ae2f8-6335-4ef3-ab05-63ae7aa86e0c",
   "metadata": {},
   "outputs": [
    {
     "data": {
      "text/plain": [
       "['age',\n",
       " 'sexe',\n",
       " 'taux',\n",
       " 'situationfamiliale',\n",
       " 'nbenfantsacharge',\n",
       " 'deuxieme_voiture',\n",
       " 'typeVoiture']"
      ]
     },
     "execution_count": 364,
     "metadata": {},
     "output_type": "execute_result"
    }
   ],
   "source": [
    "df_prepared.columns"
   ]
  },
  {
   "cell_type": "code",
   "execution_count": 387,
   "id": "ff5c5c00-59c6-4a47-8ecf-6cc3e324f27f",
   "metadata": {},
   "outputs": [],
   "source": [
    "def split_features_and_target(df, target_column):\n",
    "    # Séparer les features (X) et la colonne à prédire (y)\n",
    "    X = df.drop(target_column)\n",
    "    y = df.select(target_column)\n",
    "    return X, y"
   ]
  },
  {
   "cell_type": "code",
   "execution_count": 446,
   "id": "b5f2e3d5-5991-4082-af79-00ffb9e9df09",
   "metadata": {},
   "outputs": [],
   "source": [
    "def train_test_split(df, target_column, test_size=0.2):\n",
    "    # Assembler les colonnes en un vecteur de features\n",
    "    feature_columns = [col for col in df.columns if col != target_column]\n",
    "    assembler = VectorAssembler(inputCols=feature_columns, outputCol=\"features\")\n",
    "    df_assembled = assembler.transform(df)\n",
    "\n",
    "    # Diviser les données en train et test\n",
    "    splits = df_assembled.randomSplit([1 - test_size, test_size])\n",
    "    train_data = splits[0]\n",
    "    test_data = splits[1]\n",
    "\n",
    "    # X_train, y_train = split_features_and_target(train_data, 'typeVoiture')\n",
    "    # X_test, y_test = split_features_and_target(test_data, 'typeVoiture')\n",
    "\n",
    "    # Séparer les features (X) de la colonne cible (y) pour les données d'entraînement et de test\n",
    "    X_train = train_data.select(\"features\")\n",
    "    y_train = train_data.select(target_column)\n",
    "    X_test = test_data.select(\"features\")\n",
    "    y_test = test_data.select(target_column)\n",
    "\n",
    "    return X_train, y_train, X_test, y_test"
   ]
  },
  {
   "cell_type": "code",
   "execution_count": 447,
   "id": "9abd7617-5ef2-4aca-8773-269ed35e82d7",
   "metadata": {},
   "outputs": [],
   "source": [
    "\n",
    "# Séparer les features et la cible\n",
    "X_train, y_train, X_test, y_test = train_test_split(df_prepared, \"typeVoiture\", test_size=0.2)"
   ]
  },
  {
   "cell_type": "code",
   "execution_count": 448,
   "id": "28f68cba-35c5-433a-8639-55443e78cd8f",
   "metadata": {},
   "outputs": [
    {
     "data": {
      "text/plain": [
       "['features']"
      ]
     },
     "execution_count": 448,
     "metadata": {},
     "output_type": "execute_result"
    }
   ],
   "source": [
    "X_train.columns"
   ]
  },
  {
   "cell_type": "markdown",
   "id": "7d34ac70-295d-44a9-b67e-9b0b23635187",
   "metadata": {},
   "source": [
    "#### Fonction de préparation des données utilisant stringindexer"
   ]
  },
  {
   "cell_type": "code",
   "execution_count": 648,
   "id": "19da88af-75e7-436a-9fa2-4f4f147eeedd",
   "metadata": {},
   "outputs": [],
   "source": [
    "from pyspark.ml import Pipeline\n",
    "from pyspark.ml.feature import StringIndexer, VectorAssembler, StandardScaler\n",
    "\n",
    "def prepare_data_using_indexer(df, categorical_columns, numerical_columns, target_column):\n",
    "    \"\"\"\n",
    "    Prépare les données pour l'entraînement du modèle.\n",
    "\n",
    "    Args:\n",
    "    - df (DataFrame): Le DataFrame d'entrée.\n",
    "    - categorical_columns (list): Les colonnes catégorielles à indexer.\n",
    "    - numerical_columns (list): Les colonnes numériques à utiliser telles quelles.\n",
    "    - target_column (str): La colonne cible pour la prédiction.\n",
    "\n",
    "    Returns:\n",
    "    - DataFrame: Le DataFrame préparé avec les caractéristiques et la colonne cible indexée.\n",
    "    \"\"\"\n",
    "    # Indexer les colonnes catégorielles\n",
    "    indexers = [StringIndexer(inputCol=col, outputCol=col+\"_index\") for col in categorical_columns]\n",
    "\n",
    "    # Assembler les colonnes de caractéristiques en un vecteur de caractéristiques\n",
    "    assembler = VectorAssembler(\n",
    "        inputCols=[col+\"_index\" if col in categorical_columns else col for col in numerical_columns + categorical_columns],\n",
    "        outputCol=\"features\"\n",
    "    )\n",
    "\n",
    "    # Standardiser les caractéristiques\n",
    "    scaler = StandardScaler(inputCol=\"features\", outputCol=\"scaled_features\")\n",
    "\n",
    "    # Indexer la colonne cible\n",
    "    label_indexer = StringIndexer(inputCol=target_column, outputCol=\"label\")\n",
    "\n",
    "    # Créer un pipeline pour appliquer toutes les transformations\n",
    "    pipeline = Pipeline(stages=indexers + [assembler, scaler, label_indexer])\n",
    "\n",
    "    # Appliquer les transformations\n",
    "    df_prepared = pipeline.fit(df).transform(df)\n",
    "\n",
    "    return df_prepared\n"
   ]
  },
  {
   "cell_type": "markdown",
   "id": "a95a3708-b73c-4b3b-83e5-5b4be9988b27",
   "metadata": {},
   "source": [
    "## Random Forest"
   ]
  },
  {
   "cell_type": "code",
   "execution_count": 410,
   "id": "1468a370-6b08-42a4-b81e-b6f17375f9e1",
   "metadata": {},
   "outputs": [
    {
     "name": "stderr",
     "output_type": "stream",
     "text": [
      "24/06/08 19:12:01 WARN SampleSplitter: Not enough documents for more than one split! Consider setting mongo.input.split_size to a lower value.\n",
      "24/06/08 19:12:02 WARN SampleSplitter: Not enough documents for more than one split! Consider setting mongo.input.split_size to a lower value.\n"
     ]
    }
   ],
   "source": [
    "df_test_cleaned = clean_client_data(df_marketing)"
   ]
  },
  {
   "cell_type": "code",
   "execution_count": 459,
   "id": "211f4fce-f551-4b15-9d14-9d88a5d36393",
   "metadata": {},
   "outputs": [],
   "source": [
    "from pyspark.ml.feature import StringIndexer"
   ]
  },
  {
   "cell_type": "code",
   "execution_count": 581,
   "id": "907ff98f-c7fc-4ffd-85d8-302f1071789c",
   "metadata": {},
   "outputs": [
    {
     "name": "stderr",
     "output_type": "stream",
     "text": [
      "                                                                                \r"
     ]
    },
    {
     "data": {
      "text/plain": [
       "200677"
      ]
     },
     "execution_count": 581,
     "metadata": {},
     "output_type": "execute_result"
    }
   ],
   "source": [
    "df_prepared.count()"
   ]
  },
  {
   "cell_type": "code",
   "execution_count": 625,
   "id": "158edc68-92f3-432b-b5f3-c0d86875866c",
   "metadata": {},
   "outputs": [],
   "source": [
    "training_data, test_data = df_prepared.randomSplit([0.8, 0.2], seed = 42)"
   ]
  },
  {
   "cell_type": "code",
   "execution_count": 626,
   "id": "2c2afd05-b625-4948-9759-dd2c4fc5e249",
   "metadata": {},
   "outputs": [
    {
     "name": "stderr",
     "output_type": "stream",
     "text": [
      "                                                                                \r"
     ]
    },
    {
     "data": {
      "text/plain": [
       "160531"
      ]
     },
     "execution_count": 626,
     "metadata": {},
     "output_type": "execute_result"
    }
   ],
   "source": [
    "training_data.count()"
   ]
  },
  {
   "cell_type": "code",
   "execution_count": 627,
   "id": "c58c38ce-ab0d-4549-8b46-6a94941c7930",
   "metadata": {},
   "outputs": [
    {
     "name": "stderr",
     "output_type": "stream",
     "text": [
      "                                                                                \r"
     ]
    },
    {
     "data": {
      "text/plain": [
       "40146"
      ]
     },
     "execution_count": 627,
     "metadata": {},
     "output_type": "execute_result"
    }
   ],
   "source": [
    "test_data.count()"
   ]
  },
  {
   "cell_type": "code",
   "execution_count": 628,
   "id": "cde2be89-a89e-4dd0-ae77-12451bcd3743",
   "metadata": {},
   "outputs": [
    {
     "name": "stderr",
     "output_type": "stream",
     "text": [
      "[Stage 1167:>                                                       (0 + 2) / 2]\r"
     ]
    },
    {
     "name": "stdout",
     "output_type": "stream",
     "text": [
      "+-----------+-----+\n",
      "|typeVoiture|count|\n",
      "+-----------+-----+\n",
      "|         12| 1743|\n",
      "|          1| 2643|\n",
      "|         13| 1086|\n",
      "|         16|  314|\n",
      "|          3| 1342|\n",
      "|         20| 1322|\n",
      "|          5| 4516|\n",
      "|         19| 1844|\n",
      "|         15|  299|\n",
      "|          9| 5340|\n",
      "|         17|  788|\n",
      "|          4|  657|\n",
      "|          8| 8081|\n",
      "|         10|  452|\n",
      "|         21|  631|\n",
      "|         11| 3315|\n",
      "|         14|  722|\n",
      "|          2| 1289|\n",
      "|          0| 2536|\n",
      "|         18| 1226|\n",
      "+-----------+-----+\n",
      "\n"
     ]
    },
    {
     "name": "stderr",
     "output_type": "stream",
     "text": [
      "                                                                                \r"
     ]
    }
   ],
   "source": [
    "test_data.groupby('typeVoiture').count().show()"
   ]
  },
  {
   "cell_type": "code",
   "execution_count": 651,
   "id": "27f982af-d39d-4702-b560-8023f53e0565",
   "metadata": {},
   "outputs": [],
   "source": [
    "features_columns = ['age','sexe','taux','situationfamiliale','nbenfantsacharge','deuxieme_voiture']"
   ]
  },
  {
   "cell_type": "code",
   "execution_count": 654,
   "id": "3f1a40e5-8e24-445b-b366-062bbb6599fd",
   "metadata": {},
   "outputs": [],
   "source": [
    "def train_random_forest(data_train, data_test, features_columns, label_column=\"typeVoiture\"):\n",
    "    \"\"\"\n",
    "    Entraîne un modèle de classification Random Forest et évalue ses performances.\n",
    "\n",
    "    Args:\n",
    "    - data_train (DataFrame): Les données d'entraînement.\n",
    "    - data_test (DataFrame): Les données de test.\n",
    "    - features_columns (list): La liste des colonnes de caractéristiques utilisées pour l'entraînement.\n",
    "    - label_column (str, optional): La colonne cible à prédire. Par défaut, 'typeVoiture'.\n",
    "\n",
    "    Returns:\n",
    "    - model: Le modèle Random Forest entraîné.\n",
    "    - accuracy (float): La précision du modèle sur les données de test.\n",
    "    - f1_score (float): La F1-score du modèle sur les données de test.\n",
    "    \"\"\"\n",
    "    print(\"starting train (random forest)\")\n",
    "    \n",
    "    print(\"Étape 1: Assembler les colonnes de caractéristiques en un vecteur de caractéristiques\")\n",
    "    assembler = VectorAssembler(inputCols=features_columns, outputCol=\"features\")\n",
    "    train_data = assembler.transform(data_train)\n",
    "    \n",
    "    print(\"Étape 2: Créer une instance du classificateur Random Forest\")\n",
    "    rf = RandomForestClassifier(labelCol=label_column, featuresCol='features')\n",
    "    \n",
    "    print(\"Étape 3: Entraîner le modèle Random Forest sur les données d'entraînement\")\n",
    "    model = rf.fit(train_data)\n",
    "\n",
    "    # Étape 4: Modifier la colonne de prédiction brute (optionnel, selon les besoins spécifiques)\n",
    "    model.setRawPredictionCol(\"newRawPrediction\")\n",
    "\n",
    "    print(\"Étape 5: Assembler les colonnes de caractéristiques pour les données de test\")\n",
    "    test_data_final = assembler.transform(data_test)\n",
    "\n",
    "    print(\"Étape 6: Utiliser le modèle pour faire des prédictions sur les données de test\")\n",
    "    predictions = model.transform(test_data_final)\n",
    "    \n",
    "    print(\"Étape 7: Évaluer la précision du modèle sur les données de test\")\n",
    "    evaluator = MulticlassClassificationEvaluator(labelCol=label_column, predictionCol=\"prediction\", metricName=\"accuracy\")\n",
    "    accuracy = evaluator.evaluate(predictions)\n",
    "    \n",
    "    print(\"Étape 8: Calculer le F1-score du modèle sur les données de test\")\n",
    "    f1_evaluator = MulticlassClassificationEvaluator(labelCol='typeVoiture', predictionCol='prediction', metricName='f1')\n",
    "    f1_score = f1_evaluator.evaluate(predictions)\n",
    "    \n",
    "    print(\"Retourner le modèle entraîné et la précision\")\n",
    "    return model, accuracy, f1_score"
   ]
  },
  {
   "cell_type": "code",
   "execution_count": 653,
   "id": "3bdb53c1-1f8e-42af-a91b-7029d34c3d85",
   "metadata": {},
   "outputs": [
    {
     "name": "stdout",
     "output_type": "stream",
     "text": [
      "starting train (random forest)\n",
      "Étape 1: Assembler les colonnes de caractéristiques en un vecteur de caractéristiques\n",
      "Étape 2: Créer une instance du classificateur Random Forest\n",
      "Étape 3: Entraîner le modèle Random Forest sur les données d'entraînement\n"
     ]
    },
    {
     "name": "stderr",
     "output_type": "stream",
     "text": [
      "[Stage 1336:>                                                       (0 + 1) / 1]\r"
     ]
    },
    {
     "name": "stdout",
     "output_type": "stream",
     "text": [
      "Étape 5: Assembler les colonnes de caractéristiques pour les données de test\n",
      "Étape 6: Utiliser le modèle pour faire des prédictions sur les données de test\n",
      "Étape 7: Évaluer la précision du modèle sur les données de test\n"
     ]
    },
    {
     "name": "stderr",
     "output_type": "stream",
     "text": [
      "                                                                                \r"
     ]
    },
    {
     "name": "stdout",
     "output_type": "stream",
     "text": [
      "Étape 8: Calculer le F1-score du modèle sur les données de test\n"
     ]
    },
    {
     "name": "stderr",
     "output_type": "stream",
     "text": [
      "                                                                                \r"
     ]
    },
    {
     "name": "stdout",
     "output_type": "stream",
     "text": [
      "Retourner le modèle entraîné et la précision\n"
     ]
    }
   ],
   "source": [
    "model_rf, accuracy_rf, f1_score_rf = train_random_forest(training_data, test_data, features_columns, \"typeVoiture\")"
   ]
  },
  {
   "cell_type": "code",
   "execution_count": 656,
   "id": "97e95f54-b1c8-4f34-95cb-58b5dd12a05a",
   "metadata": {},
   "outputs": [
    {
     "name": "stdout",
     "output_type": "stream",
     "text": [
      "Random Forest\n",
      "Accuracy: 0.50497933575661\n",
      "F1 Score: 0.41662045828935046\n"
     ]
    }
   ],
   "source": [
    "print(\"Random Forest\")\n",
    "print(\"Accuracy:\", accuracy_rf)\n",
    "print(\"F1 Score:\", f1_score_rf)"
   ]
  },
  {
   "cell_type": "markdown",
   "id": "47228aac-e190-4b18-a2a3-d05dae5f3244",
   "metadata": {},
   "source": [
    "## Modele Decision Tree"
   ]
  },
  {
   "cell_type": "code",
   "execution_count": 655,
   "id": "29d421e4-3f3e-4c27-9301-f9c8a8726031",
   "metadata": {},
   "outputs": [],
   "source": [
    "def train_decision_tree(data_train, data_test, features_columns, label_column=\"typeVoiture\"):\n",
    "    \"\"\"\n",
    "    Entraîne un modèle de classification Decision Tree et évalue ses performances.\n",
    "\n",
    "    Args:\n",
    "    - data_train (DataFrame): Les données d'entraînement.\n",
    "    - data_test (DataFrame): Les données de test.\n",
    "    - features_columns (list): La liste des colonnes de caractéristiques utilisées pour l'entraînement.\n",
    "    - label_column (str, optional): La colonne cible à prédire. Par défaut, 'typeVoiture'.\n",
    "\n",
    "    Returns:\n",
    "    - model: Le modèle Decision Tree entraîné.\n",
    "    - accuracy (float): La précision du modèle sur les données de test.\n",
    "    - f1_score (float): La F1-score du modèle sur les données de test.\n",
    "    \"\"\"\n",
    "    print(\"starting train (decision tree)\")\n",
    "    \n",
    "    print(\"Étape 1: Assembler les colonnes de caractéristiques en un vecteur de caractéristiques\")\n",
    "    assembler = VectorAssembler(inputCols=features_columns, outputCol=\"features\")\n",
    "    train_dt = assembler.transform(data_train)\n",
    "    test_dt = assembler.transform(data_test)\n",
    "    \n",
    "    print(\"Étape 2: Créer une instance du classificateur Decision Tree\")\n",
    "    dt = DecisionTreeClassifier(labelCol=label_column, featuresCol=\"features\")\n",
    "    model = dt.fit(train_dt)\n",
    "    predictions = model.transform(test_dt)\n",
    "\n",
    "    print(\"Étape 7: Évaluer la précision du modèle sur les données de test\")\n",
    "    evaluator = MulticlassClassificationEvaluator(labelCol=label_column, predictionCol=\"prediction\", metricName=\"accuracy\")\n",
    "    accuracy = evaluator.evaluate(predictions)\n",
    "    \n",
    "    print(\"Étape 8: Calculer le F1-score du modèle sur les données de test\")\n",
    "    f1_evaluator = MulticlassClassificationEvaluator(labelCol=label_column, predictionCol='prediction', metricName='f1')\n",
    "    f1_score = f1_evaluator.evaluate(predictions)\n",
    "    \n",
    "    print(\"Retourner le modèle entraîné et la précision\")\n",
    "    return model, accuracy, f1_score\n"
   ]
  },
  {
   "cell_type": "code",
   "execution_count": 657,
   "id": "153ce7c0-cd8a-43b7-88ab-12239c2ff815",
   "metadata": {},
   "outputs": [
    {
     "name": "stdout",
     "output_type": "stream",
     "text": [
      "starting train (decision tree)\n",
      "Étape 1: Assembler les colonnes de caractéristiques en un vecteur de caractéristiques\n",
      "Étape 2: Créer une instance du classificateur Decision Tree\n"
     ]
    },
    {
     "name": "stderr",
     "output_type": "stream",
     "text": [
      "                                                                                \r"
     ]
    },
    {
     "name": "stdout",
     "output_type": "stream",
     "text": [
      "Étape 7: Évaluer la précision du modèle sur les données de test\n"
     ]
    },
    {
     "name": "stderr",
     "output_type": "stream",
     "text": [
      "[Stage 1402:============================>                           (1 + 1) / 2]\r"
     ]
    },
    {
     "name": "stdout",
     "output_type": "stream",
     "text": [
      "Étape 8: Calculer le F1-score du modèle sur les données de test\n"
     ]
    },
    {
     "name": "stderr",
     "output_type": "stream",
     "text": [
      "[Stage 1409:============================>                           (1 + 1) / 2]\r"
     ]
    },
    {
     "name": "stdout",
     "output_type": "stream",
     "text": [
      "Retourner le modèle entraîné et la précision\n"
     ]
    },
    {
     "name": "stderr",
     "output_type": "stream",
     "text": [
      "                                                                                \r"
     ]
    }
   ],
   "source": [
    "model_dt, accuracy_dt, f1_score_dt = train_decision_tree(training_data, test_data, features_columns, \"typeVoiture\")"
   ]
  },
  {
   "cell_type": "code",
   "execution_count": 658,
   "id": "c7c3e6f8-85dd-401e-a263-40e4cc033036",
   "metadata": {},
   "outputs": [
    {
     "name": "stdout",
     "output_type": "stream",
     "text": [
      "Decision Tree\n",
      "Accuracy: 0.5100632690679021\n",
      "F1 Score: 0.44860414171329843\n"
     ]
    }
   ],
   "source": [
    "print(\"Decision Tree\")\n",
    "print(\"Accuracy:\", accuracy_dt)\n",
    "print(\"F1 Score:\", f1_score_dt)"
   ]
  },
  {
   "cell_type": "markdown",
   "id": "f20a1b1e-0472-4eb6-bbd1-78ab6de5ea4f",
   "metadata": {},
   "source": [
    "# V. Prédiction des clients dans Marketing et exportation"
   ]
  },
  {
   "cell_type": "code",
   "execution_count": 666,
   "id": "adaae494-2e25-427e-9e26-b0b2519c815c",
   "metadata": {},
   "outputs": [],
   "source": [
    "def predict_data(model, data, columns, vehicule_types):\n",
    "    assemblerMarketing = VectorAssembler(inputCols=columns, outputCol=\"features\")\n",
    "    df_new_prepared = assemblerMarketing.transform(data)\n",
    "    predictions = model.transform(df_new_prepared)\n",
    "    return predictions\n",
    "    "
   ]
  },
  {
   "cell_type": "code",
   "execution_count": 663,
   "id": "906ba7d3-4427-4833-a4e2-6556d8eb110a",
   "metadata": {},
   "outputs": [
    {
     "name": "stderr",
     "output_type": "stream",
     "text": [
      "24/06/09 18:12:22 WARN SampleSplitter: Not enough documents for more than one split! Consider setting mongo.input.split_size to a lower value.\n",
      "24/06/09 18:12:28 WARN SampleSplitter: Not enough documents for more than one split! Consider setting mongo.input.split_size to a lower value.\n"
     ]
    }
   ],
   "source": [
    "df_test_marketing_cleaned = clean_client_data(df_marketing)\n",
    "df_test_marketing_prepared = prepare_client_data(df_test_marketing_cleaned, vehicle_types, False)"
   ]
  },
  {
   "cell_type": "code",
   "execution_count": 667,
   "id": "3f21398e-7908-4830-9124-9c5fc1201432",
   "metadata": {},
   "outputs": [],
   "source": [
    "prediction_marketing_rf = predict_data(model_rf, df_test_marketing_prepared, features_columns, vehicle_types)"
   ]
  },
  {
   "cell_type": "code",
   "execution_count": 668,
   "id": "f3e2d96a-58b7-498e-88be-9d18a824de08",
   "metadata": {},
   "outputs": [],
   "source": [
    "prediction_marketing_dt = predict_data(model_dt, df_test_marketing_prepared, features_columns, vehicle_types)"
   ]
  },
  {
   "cell_type": "code",
   "execution_count": 698,
   "id": "f2761ad0-0df9-47a1-a693-ea38e1ed4f8d",
   "metadata": {},
   "outputs": [],
   "source": [
    "import math"
   ]
  },
  {
   "cell_type": "code",
   "execution_count": 722,
   "id": "1cf445f0-a1fd-4be8-ba0a-ba03994fc04d",
   "metadata": {},
   "outputs": [],
   "source": [
    "def retransform_data(dataframe, vehicle_types, prediction_col ='typeVoiture', prediction_new_col='typeVoitureText'):\n",
    "    \"\"\"\n",
    "    Inverse les transformations numériques et remet les valeurs textuelles d'origine.\n",
    "\n",
    "    Args:\n",
    "    - df (DataFrame): Le DataFrame transformé contenant des valeurs numériques.\n",
    "    - vehicle_types (list): La liste des types de véhicules en valeurs textuelles.\n",
    "\n",
    "    Returns:\n",
    "    - DataFrame: Le DataFrame avec les valeurs textuelles d'origine.\n",
    "    \"\"\"\n",
    "    # Fonction de mappage inverse pour le sexe\n",
    "    def inverse_map_sexe(sexe):\n",
    "        mapping = {0: 'M', 1: 'F', 2: 'Unknown'}\n",
    "        return mapping.get(sexe, 'Unknown')\n",
    "\n",
    "    # Fonction de mappage inverse pour situation familiale\n",
    "    def inverse_map_situation_familiale(situationfamiliale):\n",
    "        mapping = {0: 'Célibataire', 1: 'Marié(e)', 2: 'Divorcé(e)', 3: 'En Couple', 10: 'Unknown'}\n",
    "        return mapping.get(situationfamiliale, 'Unknown')\n",
    "\n",
    "    # Fonction de mappage inverse pour la deuxième voiture\n",
    "    def inverse_map_deuxieme_voiture(deuxieme_voiture):\n",
    "        mapping = {0: True, 1: False}\n",
    "        return mapping.get(deuxieme_voiture, False)\n",
    "\n",
    "    # Fonction de mappage inverse pour type de voiture\n",
    "    def inverse_map_type_voiture(type_voiture):\n",
    "        if type_voiture >= 0 and type_voiture < len(vehicle_types):\n",
    "            return vehicle_types[math.ceil(type_voiture)]\n",
    "        else:\n",
    "            return 'Unknown'\n",
    "\n",
    "    # Convertir les fonctions de mappage inverse en UDF\n",
    "    inverse_map_sexe_udf = udf(inverse_map_sexe, StringType())\n",
    "    inverse_map_situation_familiale_udf = udf(inverse_map_situation_familiale, StringType())\n",
    "    inverse_map_deuxieme_voiture_udf = udf(inverse_map_deuxieme_voiture, StringType())\n",
    "    inverse_map_type_voiture_udf = udf(inverse_map_type_voiture, StringType())\n",
    "\n",
    "    # Appliquer les UDF pour inverser les transformations\n",
    "    dataframe = dataframe.withColumn('sexe', inverse_map_sexe_udf(col('sexe')))\n",
    "    dataframe = dataframe.withColumn('situationfamiliale', inverse_map_situation_familiale_udf(col('situationfamiliale')))\n",
    "    dataframe = dataframe.withColumn('deuxieme_voiture', inverse_map_deuxieme_voiture_udf(col('deuxieme_voiture')))\n",
    "    dataframe = dataframe.withColumn(prediction_new_col, inverse_map_type_voiture_udf(col(prediction_col)))\n",
    "\n",
    "    df_final = dataframe.drop('features', 'newRawPrediction', 'probability', 'rawPrediction')\n",
    "\n",
    "    return df_final    "
   ]
  },
  {
   "cell_type": "code",
   "execution_count": 723,
   "id": "58e305b1-8e25-405d-88b3-19e38315d8cc",
   "metadata": {},
   "outputs": [],
   "source": [
    "transformed_marketing_rf = retransform_data(prediction_marketing_rf, vehicle_types, 'prediction', 'typeVoitureText')"
   ]
  },
  {
   "cell_type": "code",
   "execution_count": 724,
   "id": "2c8d635b-9635-4662-b1fa-3338aac7560a",
   "metadata": {},
   "outputs": [],
   "source": [
    "transformed_marketing_dt = retransform_data(prediction_marketing_dt, vehicle_types, 'prediction', 'typeVoitureText')"
   ]
  },
  {
   "cell_type": "code",
   "execution_count": 725,
   "id": "3ad861e3-1bb7-4ce3-8011-255db029971b",
   "metadata": {},
   "outputs": [
    {
     "name": "stderr",
     "output_type": "stream",
     "text": [
      "24/06/09 18:33:55 WARN SampleSplitter: Not enough documents for more than one split! Consider setting mongo.input.split_size to a lower value.\n"
     ]
    },
    {
     "name": "stdout",
     "output_type": "stream",
     "text": [
      "+--------------------+----+----+------+------------------+----------------+----------------+----------+---------------+\n",
      "|                  id| age|sexe|  taux|situationfamiliale|nbenfantsacharge|deuxieme_voiture|prediction|typeVoitureText|\n",
      "+--------------------+----+----+------+------------------+----------------+----------------+----------+---------------+\n",
      "|665caa3cf79a7173f...|21.0|   F|1396.0|           Unknown|              -1|           false|       8.0|      Cabriolet|\n",
      "+--------------------+----+----+------+------------------+----------------+----------------+----------+---------------+\n",
      "only showing top 1 row\n",
      "\n"
     ]
    },
    {
     "name": "stderr",
     "output_type": "stream",
     "text": [
      "                                                                                \r"
     ]
    }
   ],
   "source": [
    "transformed_marketing_dt.show(1)"
   ]
  },
  {
   "cell_type": "code",
   "execution_count": 726,
   "id": "e7952292-216c-4534-979e-a4850e8137b1",
   "metadata": {},
   "outputs": [],
   "source": [
    "def export_df_to_csv(dataframe, filename):\n",
    "    dataframe.write.options(header='True', delimiter=',').format(\"csv\").mode('overwrite').save(filename)"
   ]
  },
  {
   "cell_type": "code",
   "execution_count": 727,
   "id": "fd92520f-8f76-4563-a825-b2edb7061258",
   "metadata": {},
   "outputs": [
    {
     "name": "stderr",
     "output_type": "stream",
     "text": [
      "24/06/09 18:34:06 WARN SampleSplitter: Not enough documents for more than one split! Consider setting mongo.input.split_size to a lower value.\n",
      "                                                                                \r"
     ]
    }
   ],
   "source": [
    "export_df_to_csv(transformed_marketing_rf, 'resultat_rf.csv')"
   ]
  },
  {
   "cell_type": "code",
   "execution_count": 728,
   "id": "f3080644-65d5-465f-95a2-7560bd147544",
   "metadata": {},
   "outputs": [
    {
     "name": "stderr",
     "output_type": "stream",
     "text": [
      "24/06/09 18:34:09 WARN SampleSplitter: Not enough documents for more than one split! Consider setting mongo.input.split_size to a lower value.\n",
      "                                                                                \r"
     ]
    }
   ],
   "source": [
    "export_df_to_csv(transformed_marketing_dt, 'resultat_dt.csv')"
   ]
  }
 ],
 "metadata": {
  "kernelspec": {
   "display_name": "Python 3 (ipykernel)",
   "language": "python",
   "name": "python3"
  },
  "language_info": {
   "codemirror_mode": {
    "name": "ipython",
    "version": 3
   },
   "file_extension": ".py",
   "mimetype": "text/x-python",
   "name": "python",
   "nbconvert_exporter": "python",
   "pygments_lexer": "ipython3",
   "version": "3.9.18"
  }
 },
 "nbformat": 4,
 "nbformat_minor": 5
}
